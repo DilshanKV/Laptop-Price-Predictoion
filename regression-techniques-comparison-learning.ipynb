{
 "cells": [
  {
   "cell_type": "markdown",
   "id": "538a8919",
   "metadata": {
    "papermill": {
     "duration": 0.052605,
     "end_time": "2023-06-16T15:17:18.611286",
     "exception": false,
     "start_time": "2023-06-16T15:17:18.558681",
     "status": "completed"
    },
    "tags": []
   },
   "source": [
    "# Laptop Price Prediction Model"
   ]
  },
  {
   "cell_type": "markdown",
   "id": "d60216a1",
   "metadata": {
    "papermill": {
     "duration": 0.05207,
     "end_time": "2023-06-16T15:17:18.715827",
     "exception": false,
     "start_time": "2023-06-16T15:17:18.663757",
     "status": "completed"
    },
    "tags": []
   },
   "source": [
    "Importing necessary modules and packages."
   ]
  },
  {
   "cell_type": "code",
   "execution_count": null,
   "id": "8daf357c",
   "metadata": {
    "execution": {
     "iopub.execute_input": "2023-06-16T15:17:18.823917Z",
     "iopub.status.busy": "2023-06-16T15:17:18.823054Z",
     "iopub.status.idle": "2023-06-16T15:17:18.837053Z",
     "shell.execute_reply": "2023-06-16T15:17:18.836113Z"
    },
    "papermill": {
     "duration": 0.071047,
     "end_time": "2023-06-16T15:17:18.839610",
     "exception": false,
     "start_time": "2023-06-16T15:17:18.768563",
     "status": "completed"
    },
    "tags": []
   },
   "outputs": [],
   "source": [
    "import pandas as pd\n",
    "import numpy as np"
   ]
  },
  {
   "cell_type": "code",
   "execution_count": null,
   "id": "e04d0513",
   "metadata": {
    "execution": {
     "iopub.execute_input": "2023-06-16T15:17:19.068775Z",
     "iopub.status.busy": "2023-06-16T15:17:19.068256Z",
     "iopub.status.idle": "2023-06-16T15:17:19.104524Z",
     "shell.execute_reply": "2023-06-16T15:17:19.103618Z"
    },
    "papermill": {
     "duration": 0.093179,
     "end_time": "2023-06-16T15:17:19.107267",
     "exception": false,
     "start_time": "2023-06-16T15:17:19.014088",
     "status": "completed"
    },
    "tags": []
   },
   "outputs": [],
   "source": [
    "df = pd.read_csv('laptop_price.csv', encoding=\"ISO-8859-1\")"
   ]
  },
  {
   "cell_type": "code",
   "execution_count": null,
   "id": "2f707918",
   "metadata": {
    "execution": {
     "iopub.execute_input": "2023-06-16T15:17:19.216604Z",
     "iopub.status.busy": "2023-06-16T15:17:19.216079Z",
     "iopub.status.idle": "2023-06-16T15:17:19.253135Z",
     "shell.execute_reply": "2023-06-16T15:17:19.252000Z"
    },
    "papermill": {
     "duration": 0.094691,
     "end_time": "2023-06-16T15:17:19.255803",
     "exception": false,
     "start_time": "2023-06-16T15:17:19.161112",
     "status": "completed"
    },
    "tags": []
   },
   "outputs": [],
   "source": [
    "df.head()"
   ]
  },
  {
   "cell_type": "code",
   "execution_count": null,
   "id": "0fb3eb07",
   "metadata": {
    "execution": {
     "iopub.execute_input": "2023-06-16T15:17:19.364473Z",
     "iopub.status.busy": "2023-06-16T15:17:19.363840Z",
     "iopub.status.idle": "2023-06-16T15:17:19.394455Z",
     "shell.execute_reply": "2023-06-16T15:17:19.393101Z"
    },
    "papermill": {
     "duration": 0.088337,
     "end_time": "2023-06-16T15:17:19.397274",
     "exception": false,
     "start_time": "2023-06-16T15:17:19.308937",
     "status": "completed"
    },
    "tags": []
   },
   "outputs": [],
   "source": [
    "df.info()"
   ]
  },
  {
   "cell_type": "code",
   "execution_count": null,
   "id": "ffb49e18",
   "metadata": {
    "execution": {
     "iopub.execute_input": "2023-06-16T15:17:19.507858Z",
     "iopub.status.busy": "2023-06-16T15:17:19.507439Z",
     "iopub.status.idle": "2023-06-16T15:17:19.531897Z",
     "shell.execute_reply": "2023-06-16T15:17:19.530532Z"
    },
    "papermill": {
     "duration": 0.083633,
     "end_time": "2023-06-16T15:17:19.534295",
     "exception": false,
     "start_time": "2023-06-16T15:17:19.450662",
     "status": "completed"
    },
    "tags": []
   },
   "outputs": [],
   "source": [
    "df.describe()"
   ]
  },
  {
   "cell_type": "markdown",
   "id": "b1a618d6",
   "metadata": {
    "papermill": {
     "duration": 0.053535,
     "end_time": "2023-06-16T15:17:19.641932",
     "exception": false,
     "start_time": "2023-06-16T15:17:19.588397",
     "status": "completed"
    },
    "tags": []
   },
   "source": [
    "## 1. Data Cleaning & Preprocessing"
   ]
  },
  {
   "cell_type": "code",
   "execution_count": null,
   "id": "b23ffd2f",
   "metadata": {
    "execution": {
     "iopub.execute_input": "2023-06-16T15:17:19.751623Z",
     "iopub.status.busy": "2023-06-16T15:17:19.750777Z",
     "iopub.status.idle": "2023-06-16T15:17:19.756492Z",
     "shell.execute_reply": "2023-06-16T15:17:19.755631Z"
    },
    "papermill": {
     "duration": 0.063343,
     "end_time": "2023-06-16T15:17:19.758971",
     "exception": false,
     "start_time": "2023-06-16T15:17:19.695628",
     "status": "completed"
    },
    "tags": []
   },
   "outputs": [],
   "source": [
    "df = df.rename(columns=str.lower)"
   ]
  },
  {
   "cell_type": "code",
   "execution_count": null,
   "id": "4ff80bf8",
   "metadata": {
    "execution": {
     "iopub.execute_input": "2023-06-16T15:17:19.869513Z",
     "iopub.status.busy": "2023-06-16T15:17:19.868495Z",
     "iopub.status.idle": "2023-06-16T15:17:19.875220Z",
     "shell.execute_reply": "2023-06-16T15:17:19.874520Z"
    },
    "papermill": {
     "duration": 0.064439,
     "end_time": "2023-06-16T15:17:19.877644",
     "exception": false,
     "start_time": "2023-06-16T15:17:19.813205",
     "status": "completed"
    },
    "scrolled": true,
    "tags": []
   },
   "outputs": [],
   "source": [
    "df.columns"
   ]
  },
  {
   "cell_type": "code",
   "execution_count": null,
   "id": "d258a15d",
   "metadata": {
    "execution": {
     "iopub.execute_input": "2023-06-16T15:17:19.988126Z",
     "iopub.status.busy": "2023-06-16T15:17:19.987751Z",
     "iopub.status.idle": "2023-06-16T15:17:19.993405Z",
     "shell.execute_reply": "2023-06-16T15:17:19.992397Z"
    },
    "papermill": {
     "duration": 0.064014,
     "end_time": "2023-06-16T15:17:19.995695",
     "exception": false,
     "start_time": "2023-06-16T15:17:19.931681",
     "status": "completed"
    },
    "tags": []
   },
   "outputs": [],
   "source": [
    "df = df.rename(columns={'price_euros':'price'})"
   ]
  },
  {
   "cell_type": "markdown",
   "id": "41dd98d8",
   "metadata": {
    "papermill": {
     "duration": 0.053989,
     "end_time": "2023-06-16T15:17:20.104675",
     "exception": false,
     "start_time": "2023-06-16T15:17:20.050686",
     "status": "completed"
    },
    "tags": []
   },
   "source": [
    "#### Checking Duplicates"
   ]
  },
  {
   "cell_type": "code",
   "execution_count": null,
   "id": "9e36febe",
   "metadata": {
    "execution": {
     "iopub.execute_input": "2023-06-16T15:17:20.215110Z",
     "iopub.status.busy": "2023-06-16T15:17:20.214406Z",
     "iopub.status.idle": "2023-06-16T15:17:20.233802Z",
     "shell.execute_reply": "2023-06-16T15:17:20.233018Z"
    },
    "papermill": {
     "duration": 0.077604,
     "end_time": "2023-06-16T15:17:20.236105",
     "exception": false,
     "start_time": "2023-06-16T15:17:20.158501",
     "status": "completed"
    },
    "scrolled": true,
    "tags": []
   },
   "outputs": [],
   "source": [
    "df[df.duplicated()]"
   ]
  },
  {
   "cell_type": "markdown",
   "id": "0a2bba0a",
   "metadata": {
    "papermill": {
     "duration": 0.054786,
     "end_time": "2023-06-16T15:17:20.344847",
     "exception": false,
     "start_time": "2023-06-16T15:17:20.290061",
     "status": "completed"
    },
    "tags": []
   },
   "source": [
    "### Feature Engineering + Regular Expression"
   ]
  },
  {
   "cell_type": "code",
   "execution_count": null,
   "id": "8094ddb1",
   "metadata": {
    "execution": {
     "iopub.execute_input": "2023-06-16T15:17:20.454909Z",
     "iopub.status.busy": "2023-06-16T15:17:20.453988Z",
     "iopub.status.idle": "2023-06-16T15:17:20.483028Z",
     "shell.execute_reply": "2023-06-16T15:17:20.481854Z"
    },
    "papermill": {
     "duration": 0.087097,
     "end_time": "2023-06-16T15:17:20.485614",
     "exception": false,
     "start_time": "2023-06-16T15:17:20.398517",
     "status": "completed"
    },
    "tags": []
   },
   "outputs": [],
   "source": [
    "import regex as re"
   ]
  },
  {
   "cell_type": "markdown",
   "id": "d49bd004",
   "metadata": {
    "papermill": {
     "duration": 0.053391,
     "end_time": "2023-06-16T15:17:20.594023",
     "exception": false,
     "start_time": "2023-06-16T15:17:20.540632",
     "status": "completed"
    },
    "tags": []
   },
   "source": [
    "#### Laptop ID"
   ]
  },
  {
   "cell_type": "code",
   "execution_count": null,
   "id": "7d7407b9",
   "metadata": {
    "execution": {
     "iopub.execute_input": "2023-06-16T15:17:20.703692Z",
     "iopub.status.busy": "2023-06-16T15:17:20.703305Z",
     "iopub.status.idle": "2023-06-16T15:17:20.712002Z",
     "shell.execute_reply": "2023-06-16T15:17:20.711199Z"
    },
    "papermill": {
     "duration": 0.066112,
     "end_time": "2023-06-16T15:17:20.714130",
     "exception": false,
     "start_time": "2023-06-16T15:17:20.648018",
     "status": "completed"
    },
    "scrolled": true,
    "tags": []
   },
   "outputs": [],
   "source": [
    "df['laptop_id']"
   ]
  },
  {
   "cell_type": "code",
   "execution_count": null,
   "id": "79197731",
   "metadata": {
    "execution": {
     "iopub.execute_input": "2023-06-16T15:17:20.824810Z",
     "iopub.status.busy": "2023-06-16T15:17:20.824326Z",
     "iopub.status.idle": "2023-06-16T15:17:20.830505Z",
     "shell.execute_reply": "2023-06-16T15:17:20.829401Z"
    },
    "papermill": {
     "duration": 0.064671,
     "end_time": "2023-06-16T15:17:20.832799",
     "exception": false,
     "start_time": "2023-06-16T15:17:20.768128",
     "status": "completed"
    },
    "tags": []
   },
   "outputs": [],
   "source": [
    "df=df.drop('laptop_id', axis=1)"
   ]
  },
  {
   "cell_type": "markdown",
   "id": "1587ff4e",
   "metadata": {
    "papermill": {
     "duration": 0.053806,
     "end_time": "2023-06-16T15:17:20.940502",
     "exception": false,
     "start_time": "2023-06-16T15:17:20.886696",
     "status": "completed"
    },
    "tags": []
   },
   "source": [
    "We dropped the laptop_id column since we don't need it."
   ]
  },
  {
   "cell_type": "markdown",
   "id": "dfa74092",
   "metadata": {},
   "source": [
    "### Company"
   ]
  },
  {
   "cell_type": "code",
   "execution_count": null,
   "id": "552a0b80",
   "metadata": {},
   "outputs": [],
   "source": [
    "df['company'].value_counts()"
   ]
  },
  {
   "cell_type": "code",
   "execution_count": null,
   "id": "0c0e59c8",
   "metadata": {},
   "outputs": [],
   "source": [
    "count = 0\n",
    "for i in df['company']:\n",
    "    if i in ['Xiaomi','Vero','Chuwi','Google','Fujitsu','LG','Huawei']:\n",
    "        df['company'][count] = 'Other'\n",
    "    else:\n",
    "        df['company'][count] = i\n",
    "    count+=1"
   ]
  },
  {
   "cell_type": "markdown",
   "id": "9f656c5d",
   "metadata": {},
   "source": [
    "All the companies which have a count value less than 5, renamed as other"
   ]
  },
  {
   "cell_type": "code",
   "execution_count": null,
   "id": "ecb9cdb5",
   "metadata": {},
   "outputs": [],
   "source": [
    "df['company'].value_counts()"
   ]
  },
  {
   "cell_type": "markdown",
   "id": "7d6de33f",
   "metadata": {},
   "source": [
    "### Product"
   ]
  },
  {
   "cell_type": "code",
   "execution_count": null,
   "id": "bab1b1b7",
   "metadata": {},
   "outputs": [],
   "source": [
    "df['product'].value_counts()"
   ]
  },
  {
   "cell_type": "markdown",
   "id": "d914c3ce",
   "metadata": {},
   "source": [
    "There are 617 categories.Therefore we can ignore the effect of product variable on the laptop price."
   ]
  },
  {
   "cell_type": "markdown",
   "id": "2276e7b0",
   "metadata": {},
   "source": [
    "### Type name"
   ]
  },
  {
   "cell_type": "code",
   "execution_count": null,
   "id": "abf19a91",
   "metadata": {},
   "outputs": [],
   "source": [
    "df['typename'].value_counts()"
   ]
  },
  {
   "cell_type": "markdown",
   "id": "79069be2",
   "metadata": {},
   "source": [
    "### Inches"
   ]
  },
  {
   "cell_type": "code",
   "execution_count": null,
   "id": "354de492",
   "metadata": {},
   "outputs": [],
   "source": [
    "df['inches'].value_counts()"
   ]
  },
  {
   "cell_type": "markdown",
   "id": "244aa0d5",
   "metadata": {},
   "source": [
    "Inches variable is numerical but it categorical since there few distinct values."
   ]
  },
  {
   "cell_type": "code",
   "execution_count": null,
   "id": "7db9a9bd",
   "metadata": {},
   "outputs": [],
   "source": [
    "conditions = [\n",
    "    (df[\"inches\"].lt(14)),\n",
    "    (df[\"inches\"].ge(14) & df[\"inches\"].lt(16)),\n",
    "    (df[\"inches\"].ge(16)),\n",
    "]\n",
    "choices = [\"< 14\", \"14-16\", \"> 16\"]\n",
    "\n",
    "df[\"inches\"] = np.select(conditions, choices)\n",
    "\n",
    "df[\"inches\"].value_counts()"
   ]
  },
  {
   "cell_type": "markdown",
   "id": "f50adba7",
   "metadata": {},
   "source": [
    "We recode this variable into 3 categories (up to 14 inches, between 14 and 16 inches and over 16 inches)"
   ]
  },
  {
   "cell_type": "markdown",
   "id": "d633e886",
   "metadata": {
    "papermill": {
     "duration": 0.054124,
     "end_time": "2023-06-16T15:17:21.049045",
     "exception": false,
     "start_time": "2023-06-16T15:17:20.994921",
     "status": "completed"
    },
    "tags": []
   },
   "source": [
    "#### Screen Resolution"
   ]
  },
  {
   "cell_type": "code",
   "execution_count": null,
   "id": "c223fc17",
   "metadata": {
    "execution": {
     "iopub.execute_input": "2023-06-16T15:17:21.163753Z",
     "iopub.status.busy": "2023-06-16T15:17:21.162889Z",
     "iopub.status.idle": "2023-06-16T15:17:21.173474Z",
     "shell.execute_reply": "2023-06-16T15:17:21.171969Z"
    },
    "papermill": {
     "duration": 0.069969,
     "end_time": "2023-06-16T15:17:21.176162",
     "exception": false,
     "start_time": "2023-06-16T15:17:21.106193",
     "status": "completed"
    },
    "tags": []
   },
   "outputs": [],
   "source": [
    "df['screenresolution']"
   ]
  },
  {
   "cell_type": "markdown",
   "id": "4ae488c7",
   "metadata": {
    "papermill": {
     "duration": 0.053858,
     "end_time": "2023-06-16T15:17:21.284197",
     "exception": false,
     "start_time": "2023-06-16T15:17:21.230339",
     "status": "completed"
    },
    "tags": []
   },
   "source": [
    "In the screen resolution column, there are multiple useful informations which can't be read properly yet.\n",
    "\n",
    "So we will separate this 3 informations **(Screen type, Resolution, Touchscreen)** in 3 different columns using regular expression."
   ]
  },
  {
   "cell_type": "code",
   "execution_count": null,
   "id": "19d70477",
   "metadata": {
    "execution": {
     "iopub.execute_input": "2023-06-16T15:17:21.397141Z",
     "iopub.status.busy": "2023-06-16T15:17:21.396347Z",
     "iopub.status.idle": "2023-06-16T15:17:21.408051Z",
     "shell.execute_reply": "2023-06-16T15:17:21.406799Z"
    },
    "papermill": {
     "duration": 0.070721,
     "end_time": "2023-06-16T15:17:21.410954",
     "exception": false,
     "start_time": "2023-06-16T15:17:21.340233",
     "status": "completed"
    },
    "tags": []
   },
   "outputs": [],
   "source": [
    "df['resolution'] = df['screenresolution'].str.extract(r'(\\d+x\\d+)')"
   ]
  },
  {
   "cell_type": "code",
   "execution_count": null,
   "id": "ba0b1299",
   "metadata": {
    "execution": {
     "iopub.execute_input": "2023-06-16T15:17:21.522624Z",
     "iopub.status.busy": "2023-06-16T15:17:21.522179Z",
     "iopub.status.idle": "2023-06-16T15:17:21.533398Z",
     "shell.execute_reply": "2023-06-16T15:17:21.532438Z"
    },
    "papermill": {
     "duration": 0.070268,
     "end_time": "2023-06-16T15:17:21.536030",
     "exception": false,
     "start_time": "2023-06-16T15:17:21.465762",
     "status": "completed"
    },
    "tags": []
   },
   "outputs": [],
   "source": [
    "df['screentype'] = df['screenresolution'].replace(r'(\\d+x\\d+)','',regex=True)"
   ]
  },
  {
   "cell_type": "code",
   "execution_count": null,
   "id": "46401ccc",
   "metadata": {
    "execution": {
     "iopub.execute_input": "2023-06-16T15:17:21.647329Z",
     "iopub.status.busy": "2023-06-16T15:17:21.646925Z",
     "iopub.status.idle": "2023-06-16T15:17:21.656800Z",
     "shell.execute_reply": "2023-06-16T15:17:21.655447Z"
    },
    "papermill": {
     "duration": 0.069036,
     "end_time": "2023-06-16T15:17:21.659617",
     "exception": false,
     "start_time": "2023-06-16T15:17:21.590581",
     "status": "completed"
    },
    "tags": []
   },
   "outputs": [],
   "source": [
    "df['screentype'] = df['screentype'].replace(r'(Full HD|Quad HD|Quad HD|\\+|/|4K Ultra HD)','',regex=True)"
   ]
  },
  {
   "cell_type": "code",
   "execution_count": null,
   "id": "48b6b204",
   "metadata": {
    "execution": {
     "iopub.execute_input": "2023-06-16T15:17:21.845781Z",
     "iopub.status.busy": "2023-06-16T15:17:21.845334Z",
     "iopub.status.idle": "2023-06-16T15:17:21.854111Z",
     "shell.execute_reply": "2023-06-16T15:17:21.852976Z"
    },
    "papermill": {
     "duration": 0.142565,
     "end_time": "2023-06-16T15:17:21.857030",
     "exception": false,
     "start_time": "2023-06-16T15:17:21.714465",
     "status": "completed"
    },
    "tags": []
   },
   "outputs": [],
   "source": [
    "df['screentype']"
   ]
  },
  {
   "cell_type": "code",
   "execution_count": null,
   "id": "49c6537d",
   "metadata": {
    "execution": {
     "iopub.execute_input": "2023-06-16T15:17:21.969517Z",
     "iopub.status.busy": "2023-06-16T15:17:21.969095Z",
     "iopub.status.idle": "2023-06-16T15:17:21.981108Z",
     "shell.execute_reply": "2023-06-16T15:17:21.979677Z"
    },
    "papermill": {
     "duration": 0.071614,
     "end_time": "2023-06-16T15:17:21.983841",
     "exception": false,
     "start_time": "2023-06-16T15:17:21.912227",
     "status": "completed"
    },
    "tags": []
   },
   "outputs": [],
   "source": [
    "df['touchscreen'] = df['screentype'].str.extract(r'(Touchscreen)')\n",
    "df['screentype'] = df['screentype'].replace(r'(Touchscreen)','',regex=True)"
   ]
  },
  {
   "cell_type": "code",
   "execution_count": null,
   "id": "5dd2ec44",
   "metadata": {
    "execution": {
     "iopub.execute_input": "2023-06-16T15:17:22.098002Z",
     "iopub.status.busy": "2023-06-16T15:17:22.096999Z",
     "iopub.status.idle": "2023-06-16T15:17:22.106568Z",
     "shell.execute_reply": "2023-06-16T15:17:22.105755Z"
    },
    "papermill": {
     "duration": 0.070139,
     "end_time": "2023-06-16T15:17:22.108865",
     "exception": false,
     "start_time": "2023-06-16T15:17:22.038726",
     "status": "completed"
    },
    "tags": []
   },
   "outputs": [],
   "source": [
    "df['touchscreen'].value_counts()"
   ]
  },
  {
   "cell_type": "markdown",
   "id": "10e9b71f",
   "metadata": {
    "papermill": {
     "duration": 0.054713,
     "end_time": "2023-06-16T15:17:22.219509",
     "exception": false,
     "start_time": "2023-06-16T15:17:22.164796",
     "status": "completed"
    },
    "tags": []
   },
   "source": [
    "*One hot encoding for presence or absence of Touchscreen feature.*"
   ]
  },
  {
   "cell_type": "code",
   "execution_count": null,
   "id": "3d5911d0",
   "metadata": {
    "execution": {
     "iopub.execute_input": "2023-06-16T15:17:22.331979Z",
     "iopub.status.busy": "2023-06-16T15:17:22.331049Z",
     "iopub.status.idle": "2023-06-16T15:17:22.338021Z",
     "shell.execute_reply": "2023-06-16T15:17:22.336960Z"
    },
    "papermill": {
     "duration": 0.065722,
     "end_time": "2023-06-16T15:17:22.340618",
     "exception": false,
     "start_time": "2023-06-16T15:17:22.274896",
     "status": "completed"
    },
    "tags": []
   },
   "outputs": [],
   "source": [
    "df['touchscreen'] = df['touchscreen'].replace('Touchscreen',1)\n",
    "df['touchscreen'] = df['touchscreen'].replace(np.nan,0)"
   ]
  },
  {
   "cell_type": "code",
   "execution_count": null,
   "id": "472009e7",
   "metadata": {
    "execution": {
     "iopub.execute_input": "2023-06-16T15:17:22.455488Z",
     "iopub.status.busy": "2023-06-16T15:17:22.454535Z",
     "iopub.status.idle": "2023-06-16T15:17:22.463724Z",
     "shell.execute_reply": "2023-06-16T15:17:22.462678Z"
    },
    "papermill": {
     "duration": 0.069664,
     "end_time": "2023-06-16T15:17:22.465980",
     "exception": false,
     "start_time": "2023-06-16T15:17:22.396316",
     "status": "completed"
    },
    "scrolled": true,
    "tags": []
   },
   "outputs": [],
   "source": [
    "df['touchscreen'].value_counts()"
   ]
  },
  {
   "cell_type": "code",
   "execution_count": null,
   "id": "edb9d134",
   "metadata": {
    "execution": {
     "iopub.execute_input": "2023-06-16T15:17:22.579911Z",
     "iopub.status.busy": "2023-06-16T15:17:22.579304Z",
     "iopub.status.idle": "2023-06-16T15:17:22.586917Z",
     "shell.execute_reply": "2023-06-16T15:17:22.586027Z"
    },
    "papermill": {
     "duration": 0.067998,
     "end_time": "2023-06-16T15:17:22.589095",
     "exception": false,
     "start_time": "2023-06-16T15:17:22.521097",
     "status": "completed"
    },
    "scrolled": true,
    "tags": []
   },
   "outputs": [],
   "source": [
    "df['screentype'].value_counts()"
   ]
  },
  {
   "cell_type": "code",
   "execution_count": null,
   "id": "26f525b3",
   "metadata": {
    "execution": {
     "iopub.execute_input": "2023-06-16T15:17:22.702140Z",
     "iopub.status.busy": "2023-06-16T15:17:22.701545Z",
     "iopub.status.idle": "2023-06-16T15:17:22.712662Z",
     "shell.execute_reply": "2023-06-16T15:17:22.711897Z"
    },
    "papermill": {
     "duration": 0.070277,
     "end_time": "2023-06-16T15:17:22.714840",
     "exception": false,
     "start_time": "2023-06-16T15:17:22.644563",
     "status": "completed"
    },
    "scrolled": true,
    "tags": []
   },
   "outputs": [],
   "source": [
    "df['screentype']=df['screentype'].replace(r' ','',regex=True)\n",
    "df['screentype'].value_counts()"
   ]
  },
  {
   "cell_type": "markdown",
   "id": "92cf6d6a",
   "metadata": {
    "papermill": {
     "duration": 0.055121,
     "end_time": "2023-06-16T15:17:22.825701",
     "exception": false,
     "start_time": "2023-06-16T15:17:22.770580",
     "status": "completed"
    },
    "tags": []
   },
   "source": [
    "Replacing blank spaces with NaN."
   ]
  },
  {
   "cell_type": "code",
   "execution_count": null,
   "id": "d4c8459a",
   "metadata": {
    "execution": {
     "iopub.execute_input": "2023-06-16T15:17:22.939673Z",
     "iopub.status.busy": "2023-06-16T15:17:22.939008Z",
     "iopub.status.idle": "2023-06-16T15:17:22.951419Z",
     "shell.execute_reply": "2023-06-16T15:17:22.950404Z"
    },
    "papermill": {
     "duration": 0.072321,
     "end_time": "2023-06-16T15:17:22.954038",
     "exception": false,
     "start_time": "2023-06-16T15:17:22.881717",
     "status": "completed"
    },
    "tags": []
   },
   "outputs": [],
   "source": [
    "df['screentype'] = df['screentype'].replace(r'^\\s*$', np.nan, regex=True)\n",
    "df['screentype'].value_counts()"
   ]
  },
  {
   "cell_type": "code",
   "execution_count": null,
   "id": "7a83fd69",
   "metadata": {
    "execution": {
     "iopub.execute_input": "2023-06-16T15:17:23.067526Z",
     "iopub.status.busy": "2023-06-16T15:17:23.067078Z",
     "iopub.status.idle": "2023-06-16T15:17:23.087935Z",
     "shell.execute_reply": "2023-06-16T15:17:23.086757Z"
    },
    "papermill": {
     "duration": 0.080431,
     "end_time": "2023-06-16T15:17:23.090311",
     "exception": false,
     "start_time": "2023-06-16T15:17:23.009880",
     "status": "completed"
    },
    "tags": []
   },
   "outputs": [],
   "source": [
    "df.head()"
   ]
  },
  {
   "cell_type": "markdown",
   "id": "9ad1bf4b",
   "metadata": {
    "papermill": {
     "duration": 0.056088,
     "end_time": "2023-06-16T15:17:23.203896",
     "exception": false,
     "start_time": "2023-06-16T15:17:23.147808",
     "status": "completed"
    },
    "tags": []
   },
   "source": [
    "*Removing the Screen Resolution column as we extracted all the necessary information from it.*"
   ]
  },
  {
   "cell_type": "code",
   "execution_count": null,
   "id": "e37f974f",
   "metadata": {
    "execution": {
     "iopub.execute_input": "2023-06-16T15:17:23.320233Z",
     "iopub.status.busy": "2023-06-16T15:17:23.319808Z",
     "iopub.status.idle": "2023-06-16T15:17:23.326737Z",
     "shell.execute_reply": "2023-06-16T15:17:23.325488Z"
    },
    "papermill": {
     "duration": 0.067774,
     "end_time": "2023-06-16T15:17:23.329240",
     "exception": false,
     "start_time": "2023-06-16T15:17:23.261466",
     "status": "completed"
    },
    "tags": []
   },
   "outputs": [],
   "source": [
    "df = df.drop('screenresolution', axis=1)"
   ]
  },
  {
   "cell_type": "code",
   "execution_count": null,
   "id": "bab57607",
   "metadata": {
    "execution": {
     "iopub.execute_input": "2023-06-16T15:17:23.444976Z",
     "iopub.status.busy": "2023-06-16T15:17:23.444254Z",
     "iopub.status.idle": "2023-06-16T15:17:23.465338Z",
     "shell.execute_reply": "2023-06-16T15:17:23.464118Z"
    },
    "papermill": {
     "duration": 0.082363,
     "end_time": "2023-06-16T15:17:23.468340",
     "exception": false,
     "start_time": "2023-06-16T15:17:23.385977",
     "status": "completed"
    },
    "tags": []
   },
   "outputs": [],
   "source": [
    "df.head()"
   ]
  },
  {
   "cell_type": "code",
   "execution_count": null,
   "id": "8c636199",
   "metadata": {
    "execution": {
     "iopub.execute_input": "2023-06-16T15:17:23.587720Z",
     "iopub.status.busy": "2023-06-16T15:17:23.586738Z",
     "iopub.status.idle": "2023-06-16T15:17:23.596457Z",
     "shell.execute_reply": "2023-06-16T15:17:23.595562Z"
    },
    "papermill": {
     "duration": 0.073336,
     "end_time": "2023-06-16T15:17:23.598775",
     "exception": false,
     "start_time": "2023-06-16T15:17:23.525439",
     "status": "completed"
    },
    "scrolled": true,
    "tags": []
   },
   "outputs": [],
   "source": [
    "df['resolution'].value_counts()"
   ]
  },
  {
   "cell_type": "markdown",
   "id": "e2294e32",
   "metadata": {},
   "source": [
    "There are resolutions values which have a count value less than 10.we can recorded them as Other"
   ]
  },
  {
   "cell_type": "code",
   "execution_count": null,
   "id": "53df1e96",
   "metadata": {},
   "outputs": [],
   "source": [
    "resolution_values = [\"2880x1800\", \"2736x1824\", \"2560x1600\", \"2400x1600\", \"2304x1440\", \"2256x1504\", \"2160x1440\", \n",
    "                  \"1920x1200\", \"1440x900\"]\n",
    "count = 0\n",
    "for i in df['resolution']:\n",
    "    if i in resolution_values:\n",
    "        df['resolution'][count] = 'Other'\n",
    "    else:\n",
    "        df['resolution'][count] = i\n",
    "    count+=1"
   ]
  },
  {
   "cell_type": "code",
   "execution_count": null,
   "id": "e7a66902",
   "metadata": {},
   "outputs": [],
   "source": [
    "df['resolution'].value_counts()"
   ]
  },
  {
   "cell_type": "code",
   "execution_count": null,
   "id": "555d45c9",
   "metadata": {
    "execution": {
     "iopub.execute_input": "2023-06-16T15:17:23.714791Z",
     "iopub.status.busy": "2023-06-16T15:17:23.714338Z",
     "iopub.status.idle": "2023-06-16T15:17:23.723512Z",
     "shell.execute_reply": "2023-06-16T15:17:23.722658Z"
    },
    "papermill": {
     "duration": 0.070231,
     "end_time": "2023-06-16T15:17:23.725750",
     "exception": false,
     "start_time": "2023-06-16T15:17:23.655519",
     "status": "completed"
    },
    "tags": []
   },
   "outputs": [],
   "source": [
    "df['screentype'].value_counts()"
   ]
  },
  {
   "cell_type": "code",
   "execution_count": null,
   "id": "58e766d3",
   "metadata": {
    "execution": {
     "iopub.execute_input": "2023-06-16T15:17:23.843474Z",
     "iopub.status.busy": "2023-06-16T15:17:23.842281Z",
     "iopub.status.idle": "2023-06-16T15:17:23.851874Z",
     "shell.execute_reply": "2023-06-16T15:17:23.850663Z"
    },
    "papermill": {
     "duration": 0.071158,
     "end_time": "2023-06-16T15:17:23.854559",
     "exception": false,
     "start_time": "2023-06-16T15:17:23.783401",
     "status": "completed"
    },
    "scrolled": true,
    "tags": []
   },
   "outputs": [],
   "source": [
    "df['touchscreen'].value_counts()"
   ]
  },
  {
   "cell_type": "code",
   "execution_count": null,
   "id": "8c66b56f",
   "metadata": {
    "execution": {
     "iopub.execute_input": "2023-06-16T15:17:23.973606Z",
     "iopub.status.busy": "2023-06-16T15:17:23.972865Z",
     "iopub.status.idle": "2023-06-16T15:17:23.980887Z",
     "shell.execute_reply": "2023-06-16T15:17:23.979839Z"
    },
    "papermill": {
     "duration": 0.069094,
     "end_time": "2023-06-16T15:17:23.983459",
     "exception": false,
     "start_time": "2023-06-16T15:17:23.914365",
     "status": "completed"
    },
    "scrolled": true,
    "tags": []
   },
   "outputs": [],
   "source": [
    "df['cpu']"
   ]
  },
  {
   "cell_type": "markdown",
   "id": "55923b37",
   "metadata": {
    "papermill": {
     "duration": 0.056324,
     "end_time": "2023-06-16T15:17:24.096625",
     "exception": false,
     "start_time": "2023-06-16T15:17:24.040301",
     "status": "completed"
    },
    "tags": []
   },
   "source": [
    "*We are separating CPU info with CPU frequency using regex again.*"
   ]
  },
  {
   "cell_type": "code",
   "execution_count": null,
   "id": "ff59bec2",
   "metadata": {
    "execution": {
     "iopub.execute_input": "2023-06-16T15:17:24.215228Z",
     "iopub.status.busy": "2023-06-16T15:17:24.214793Z",
     "iopub.status.idle": "2023-06-16T15:17:24.229819Z",
     "shell.execute_reply": "2023-06-16T15:17:24.228423Z"
    },
    "papermill": {
     "duration": 0.076804,
     "end_time": "2023-06-16T15:17:24.232456",
     "exception": false,
     "start_time": "2023-06-16T15:17:24.155652",
     "status": "completed"
    },
    "tags": []
   },
   "outputs": [],
   "source": [
    "df['cpu_freq'] = df['cpu'].str.extract(r'(\\d+(?:\\.\\d+)?GHz)') "
   ]
  },
  {
   "cell_type": "code",
   "execution_count": null,
   "id": "fe715ee8",
   "metadata": {
    "execution": {
     "iopub.execute_input": "2023-06-16T15:17:24.350057Z",
     "iopub.status.busy": "2023-06-16T15:17:24.349649Z",
     "iopub.status.idle": "2023-06-16T15:17:24.358495Z",
     "shell.execute_reply": "2023-06-16T15:17:24.357752Z"
    },
    "papermill": {
     "duration": 0.070805,
     "end_time": "2023-06-16T15:17:24.360604",
     "exception": false,
     "start_time": "2023-06-16T15:17:24.289799",
     "status": "completed"
    },
    "tags": []
   },
   "outputs": [],
   "source": [
    "df['cpu_freq'].value_counts()"
   ]
  },
  {
   "cell_type": "code",
   "execution_count": null,
   "id": "47690373",
   "metadata": {
    "execution": {
     "iopub.execute_input": "2023-06-16T15:17:24.479413Z",
     "iopub.status.busy": "2023-06-16T15:17:24.478279Z",
     "iopub.status.idle": "2023-06-16T15:17:24.488633Z",
     "shell.execute_reply": "2023-06-16T15:17:24.486852Z"
    },
    "papermill": {
     "duration": 0.07211,
     "end_time": "2023-06-16T15:17:24.491622",
     "exception": false,
     "start_time": "2023-06-16T15:17:24.419512",
     "status": "completed"
    },
    "tags": []
   },
   "outputs": [],
   "source": [
    "df['cpu_freq'] = df['cpu_freq'].str.replace('GHz', '')\n",
    "df.rename(columns={'cpu_freq': 'cpu_freq(GHz)'}, inplace=True)"
   ]
  },
  {
   "cell_type": "code",
   "execution_count": null,
   "id": "7d408d27",
   "metadata": {
    "execution": {
     "iopub.execute_input": "2023-06-16T15:17:24.608775Z",
     "iopub.status.busy": "2023-06-16T15:17:24.608335Z",
     "iopub.status.idle": "2023-06-16T15:17:24.615071Z",
     "shell.execute_reply": "2023-06-16T15:17:24.613814Z"
    },
    "papermill": {
     "duration": 0.068943,
     "end_time": "2023-06-16T15:17:24.617614",
     "exception": false,
     "start_time": "2023-06-16T15:17:24.548671",
     "status": "completed"
    },
    "tags": []
   },
   "outputs": [],
   "source": [
    "df['cpu_freq(GHz)'] = df['cpu_freq(GHz)'].astype(float)"
   ]
  },
  {
   "cell_type": "code",
   "execution_count": null,
   "id": "316a5703",
   "metadata": {
    "execution": {
     "iopub.execute_input": "2023-06-16T15:17:24.734333Z",
     "iopub.status.busy": "2023-06-16T15:17:24.733926Z",
     "iopub.status.idle": "2023-06-16T15:17:24.747262Z",
     "shell.execute_reply": "2023-06-16T15:17:24.746131Z"
    },
    "papermill": {
     "duration": 0.074811,
     "end_time": "2023-06-16T15:17:24.749856",
     "exception": false,
     "start_time": "2023-06-16T15:17:24.675045",
     "status": "completed"
    },
    "tags": []
   },
   "outputs": [],
   "source": [
    "df['cpu']= df['cpu'].str.replace(r'(\\d+(?:\\.\\d+)?GHz)', '', regex=True)"
   ]
  },
  {
   "cell_type": "code",
   "execution_count": null,
   "id": "3f61e380",
   "metadata": {},
   "outputs": [],
   "source": [
    "df['cpu'].value_counts()"
   ]
  },
  {
   "cell_type": "code",
   "execution_count": null,
   "id": "ea36e480",
   "metadata": {
    "execution": {
     "iopub.execute_input": "2023-06-16T15:17:24.869421Z",
     "iopub.status.busy": "2023-06-16T15:17:24.868995Z",
     "iopub.status.idle": "2023-06-16T15:17:24.891083Z",
     "shell.execute_reply": "2023-06-16T15:17:24.890229Z"
    },
    "papermill": {
     "duration": 0.08543,
     "end_time": "2023-06-16T15:17:24.893361",
     "exception": false,
     "start_time": "2023-06-16T15:17:24.807931",
     "status": "completed"
    },
    "tags": []
   },
   "outputs": [],
   "source": [
    "df.head()"
   ]
  },
  {
   "cell_type": "markdown",
   "id": "f143ba2e",
   "metadata": {
    "papermill": {
     "duration": 0.05765,
     "end_time": "2023-06-16T15:17:25.008612",
     "exception": false,
     "start_time": "2023-06-16T15:17:24.950962",
     "status": "completed"
    },
    "tags": []
   },
   "source": [
    "*We removed \"GB\" from each row in RAM column and added it into the column name and turned the column into Integer. This way we can perform numeric calculations on the row.*"
   ]
  },
  {
   "cell_type": "code",
   "execution_count": null,
   "id": "6a44b20c",
   "metadata": {
    "execution": {
     "iopub.execute_input": "2023-06-16T15:17:25.135691Z",
     "iopub.status.busy": "2023-06-16T15:17:25.134680Z",
     "iopub.status.idle": "2023-06-16T15:17:25.146147Z",
     "shell.execute_reply": "2023-06-16T15:17:25.144770Z"
    },
    "papermill": {
     "duration": 0.080073,
     "end_time": "2023-06-16T15:17:25.149283",
     "exception": false,
     "start_time": "2023-06-16T15:17:25.069210",
     "status": "completed"
    },
    "tags": []
   },
   "outputs": [],
   "source": [
    "df['ram'] = df['ram'].str.replace('GB', '')"
   ]
  },
  {
   "cell_type": "code",
   "execution_count": null,
   "id": "ec869a03",
   "metadata": {
    "execution": {
     "iopub.execute_input": "2023-06-16T15:17:25.277471Z",
     "iopub.status.busy": "2023-06-16T15:17:25.276985Z",
     "iopub.status.idle": "2023-06-16T15:17:25.283634Z",
     "shell.execute_reply": "2023-06-16T15:17:25.282445Z"
    },
    "papermill": {
     "duration": 0.068879,
     "end_time": "2023-06-16T15:17:25.286459",
     "exception": false,
     "start_time": "2023-06-16T15:17:25.217580",
     "status": "completed"
    },
    "tags": []
   },
   "outputs": [],
   "source": [
    "df.rename(columns={'ram': 'ram(GB)'}, inplace=True)"
   ]
  },
  {
   "cell_type": "code",
   "execution_count": null,
   "id": "698cb6fc",
   "metadata": {
    "execution": {
     "iopub.execute_input": "2023-06-16T15:17:25.405110Z",
     "iopub.status.busy": "2023-06-16T15:17:25.404719Z",
     "iopub.status.idle": "2023-06-16T15:17:25.410604Z",
     "shell.execute_reply": "2023-06-16T15:17:25.409571Z"
    },
    "papermill": {
     "duration": 0.06818,
     "end_time": "2023-06-16T15:17:25.412951",
     "exception": false,
     "start_time": "2023-06-16T15:17:25.344771",
     "status": "completed"
    },
    "tags": []
   },
   "outputs": [],
   "source": [
    "df['ram(GB)'] = df['ram(GB)'].astype(int)"
   ]
  },
  {
   "cell_type": "code",
   "execution_count": null,
   "id": "234c0d7a",
   "metadata": {},
   "outputs": [],
   "source": [
    "df['ram(GB)'].value_counts()"
   ]
  },
  {
   "cell_type": "code",
   "execution_count": null,
   "id": "77bc72dc",
   "metadata": {
    "execution": {
     "iopub.execute_input": "2023-06-16T15:17:25.531251Z",
     "iopub.status.busy": "2023-06-16T15:17:25.530861Z",
     "iopub.status.idle": "2023-06-16T15:17:25.553643Z",
     "shell.execute_reply": "2023-06-16T15:17:25.552225Z"
    },
    "papermill": {
     "duration": 0.08464,
     "end_time": "2023-06-16T15:17:25.556495",
     "exception": false,
     "start_time": "2023-06-16T15:17:25.471855",
     "status": "completed"
    },
    "tags": []
   },
   "outputs": [],
   "source": [
    "df.head()"
   ]
  },
  {
   "cell_type": "code",
   "execution_count": null,
   "id": "091ffe6d",
   "metadata": {
    "execution": {
     "iopub.execute_input": "2023-06-16T15:17:25.675224Z",
     "iopub.status.busy": "2023-06-16T15:17:25.674211Z",
     "iopub.status.idle": "2023-06-16T15:17:25.682362Z",
     "shell.execute_reply": "2023-06-16T15:17:25.681639Z"
    },
    "papermill": {
     "duration": 0.069397,
     "end_time": "2023-06-16T15:17:25.684370",
     "exception": false,
     "start_time": "2023-06-16T15:17:25.614973",
     "status": "completed"
    },
    "scrolled": true,
    "tags": []
   },
   "outputs": [],
   "source": [
    "df['memory']"
   ]
  },
  {
   "cell_type": "code",
   "execution_count": null,
   "id": "519cd18d",
   "metadata": {
    "execution": {
     "iopub.execute_input": "2023-06-16T15:17:25.802911Z",
     "iopub.status.busy": "2023-06-16T15:17:25.802127Z",
     "iopub.status.idle": "2023-06-16T15:17:25.811314Z",
     "shell.execute_reply": "2023-06-16T15:17:25.810482Z"
    },
    "papermill": {
     "duration": 0.071266,
     "end_time": "2023-06-16T15:17:25.813733",
     "exception": false,
     "start_time": "2023-06-16T15:17:25.742467",
     "status": "completed"
    },
    "tags": []
   },
   "outputs": [],
   "source": [
    "df['memory'].value_counts()"
   ]
  },
  {
   "cell_type": "markdown",
   "id": "4c30f9ec",
   "metadata": {
    "papermill": {
     "duration": 0.058108,
     "end_time": "2023-06-16T15:17:25.930291",
     "exception": false,
     "start_time": "2023-06-16T15:17:25.872183",
     "status": "completed"
    },
    "tags": []
   },
   "source": [
    "We can see that some laptops have 2 hard drives, there are 4 differnt types of disks: 'SSD', ''HDD', 'Hybrid' and 'Flash Storage'. We will create new columns to include all these information."
   ]
  },
  {
   "cell_type": "code",
   "execution_count": null,
   "id": "4faae8b4",
   "metadata": {
    "execution": {
     "iopub.execute_input": "2023-06-16T15:17:26.049588Z",
     "iopub.status.busy": "2023-06-16T15:17:26.048779Z",
     "iopub.status.idle": "2023-06-16T15:17:26.054615Z",
     "shell.execute_reply": "2023-06-16T15:17:26.053689Z"
    },
    "papermill": {
     "duration": 0.068489,
     "end_time": "2023-06-16T15:17:26.057298",
     "exception": false,
     "start_time": "2023-06-16T15:17:25.988809",
     "status": "completed"
    },
    "tags": []
   },
   "outputs": [],
   "source": [
    "df['memory_1']=df['memory']"
   ]
  },
  {
   "cell_type": "markdown",
   "id": "7efa63f9",
   "metadata": {
    "papermill": {
     "duration": 0.058956,
     "end_time": "2023-06-16T15:17:26.175777",
     "exception": false,
     "start_time": "2023-06-16T15:17:26.116821",
     "status": "completed"
    },
    "tags": []
   },
   "source": [
    "Converting all sizes into GB for uniformity."
   ]
  },
  {
   "cell_type": "code",
   "execution_count": null,
   "id": "fdb2ad67",
   "metadata": {
    "execution": {
     "iopub.execute_input": "2023-06-16T15:17:26.296455Z",
     "iopub.status.busy": "2023-06-16T15:17:26.296005Z",
     "iopub.status.idle": "2023-06-16T15:17:26.316718Z",
     "shell.execute_reply": "2023-06-16T15:17:26.315666Z"
    },
    "papermill": {
     "duration": 0.083333,
     "end_time": "2023-06-16T15:17:26.319455",
     "exception": false,
     "start_time": "2023-06-16T15:17:26.236122",
     "status": "completed"
    },
    "tags": []
   },
   "outputs": [],
   "source": [
    "df['memory_1']=df['memory_1'].str.replace('1.0TB','1TB', regex=True)\n",
    "df['memory_1']=df['memory_1'].str.replace('1TB','1000GB')\n",
    "df['memory_1']=df['memory_1'].str.replace('2TB','2000GB')\n",
    "df['memory_1']=df['memory_1'].str.replace('GB','')\n",
    "df['memory_1'].value_counts()"
   ]
  },
  {
   "cell_type": "code",
   "execution_count": null,
   "id": "bf639954",
   "metadata": {
    "execution": {
     "iopub.execute_input": "2023-06-16T15:17:26.440922Z",
     "iopub.status.busy": "2023-06-16T15:17:26.440470Z",
     "iopub.status.idle": "2023-06-16T15:17:26.455475Z",
     "shell.execute_reply": "2023-06-16T15:17:26.454307Z"
    },
    "papermill": {
     "duration": 0.078786,
     "end_time": "2023-06-16T15:17:26.458304",
     "exception": false,
     "start_time": "2023-06-16T15:17:26.379518",
     "status": "completed"
    },
    "tags": []
   },
   "outputs": [],
   "source": [
    "df['memory2']=df['memory_1'].str.replace(r' ','')\n",
    "df['memory2'].value_counts()"
   ]
  },
  {
   "cell_type": "code",
   "execution_count": null,
   "id": "00940a7d",
   "metadata": {
    "execution": {
     "iopub.execute_input": "2023-06-16T15:17:26.579575Z",
     "iopub.status.busy": "2023-06-16T15:17:26.579152Z",
     "iopub.status.idle": "2023-06-16T15:17:26.626991Z",
     "shell.execute_reply": "2023-06-16T15:17:26.625769Z"
    },
    "papermill": {
     "duration": 0.112479,
     "end_time": "2023-06-16T15:17:26.630083",
     "exception": false,
     "start_time": "2023-06-16T15:17:26.517604",
     "status": "completed"
    },
    "tags": []
   },
   "outputs": [],
   "source": [
    "memory_1=[]\n",
    "memory_2=[]\n",
    "for i in df['memory2']:\n",
    "    if len(re.findall(r'\\+',i))==1: # DOUBLE DRIVE\n",
    "        one=re.findall(r'(\\w+)',i)\n",
    "        memory_1.append(one[0])\n",
    "        memory_2.append(one[1])\n",
    "    else: # SINGLE DRIVE\n",
    "        one=re.findall(r'(\\w+)',i)\n",
    "        memory_1.append(one[0])\n",
    "        memory_2.append('NaN')"
   ]
  },
  {
   "cell_type": "markdown",
   "id": "32600544",
   "metadata": {
    "papermill": {
     "duration": 0.058598,
     "end_time": "2023-06-16T15:17:26.747589",
     "exception": false,
     "start_time": "2023-06-16T15:17:26.688991",
     "status": "completed"
    },
    "tags": []
   },
   "source": [
    "Now we have separated the drives into two lists. We will now create two more lists that will contain the memory types."
   ]
  },
  {
   "cell_type": "code",
   "execution_count": null,
   "id": "f692e19b",
   "metadata": {
    "execution": {
     "iopub.execute_input": "2023-06-16T15:17:26.867840Z",
     "iopub.status.busy": "2023-06-16T15:17:26.867424Z",
     "iopub.status.idle": "2023-06-16T15:17:26.914604Z",
     "shell.execute_reply": "2023-06-16T15:17:26.913358Z"
    },
    "papermill": {
     "duration": 0.110693,
     "end_time": "2023-06-16T15:17:26.917481",
     "exception": false,
     "start_time": "2023-06-16T15:17:26.806788",
     "status": "completed"
    },
    "tags": []
   },
   "outputs": [],
   "source": [
    "memory_1_gb=[]\n",
    "memory_1_type=[]\n",
    "for i in memory_1:\n",
    "    memory_1_type.append(re.findall(r'(\\D\\w+)',i)[0])\n",
    "    memory_1_gb.append(re.findall(r'(\\d+)',i)[0])"
   ]
  },
  {
   "cell_type": "markdown",
   "id": "2fc58001",
   "metadata": {
    "papermill": {
     "duration": 0.058249,
     "end_time": "2023-06-16T15:17:27.034987",
     "exception": false,
     "start_time": "2023-06-16T15:17:26.976738",
     "status": "completed"
    },
    "tags": []
   },
   "source": [
    "We created succesfully two lists for memory_1 in order to include the capacity and type for each memory 1"
   ]
  },
  {
   "cell_type": "code",
   "execution_count": null,
   "id": "703dbec9",
   "metadata": {
    "execution": {
     "iopub.execute_input": "2023-06-16T15:17:27.157845Z",
     "iopub.status.busy": "2023-06-16T15:17:27.157467Z",
     "iopub.status.idle": "2023-06-16T15:17:27.172227Z",
     "shell.execute_reply": "2023-06-16T15:17:27.170909Z"
    },
    "papermill": {
     "duration": 0.08046,
     "end_time": "2023-06-16T15:17:27.175369",
     "exception": false,
     "start_time": "2023-06-16T15:17:27.094909",
     "status": "completed"
    },
    "tags": []
   },
   "outputs": [],
   "source": [
    "memory_2_gb=[]\n",
    "memory_2_type=[]\n",
    "for i in memory_2:\n",
    "    if i != 'NaN':\n",
    "        memory_2_type.append(re.findall(r'(\\D\\w+)',i)[0])\n",
    "        memory_2_gb.append(re.findall(r'(\\d+)',i)[0])\n",
    "    else:\n",
    "        memory_2_type.append('NaN')\n",
    "        memory_2_gb.append(0)"
   ]
  },
  {
   "cell_type": "markdown",
   "id": "17599f2b",
   "metadata": {
    "papermill": {
     "duration": 0.059838,
     "end_time": "2023-06-16T15:17:27.294631",
     "exception": false,
     "start_time": "2023-06-16T15:17:27.234793",
     "status": "completed"
    },
    "tags": []
   },
   "source": [
    "We created the same two lists that will contain type and capacity also for the second drive"
   ]
  },
  {
   "cell_type": "code",
   "execution_count": null,
   "id": "b4e7fc6b",
   "metadata": {
    "execution": {
     "iopub.execute_input": "2023-06-16T15:17:27.418583Z",
     "iopub.status.busy": "2023-06-16T15:17:27.418136Z",
     "iopub.status.idle": "2023-06-16T15:17:27.427462Z",
     "shell.execute_reply": "2023-06-16T15:17:27.425991Z"
    },
    "papermill": {
     "duration": 0.075659,
     "end_time": "2023-06-16T15:17:27.430226",
     "exception": false,
     "start_time": "2023-06-16T15:17:27.354567",
     "status": "completed"
    },
    "tags": []
   },
   "outputs": [],
   "source": [
    "df['memory_1_sto(GB)'] = memory_1_gb\n",
    "df['memory_1_type'] = memory_1_type\n",
    "df['memory_2_sto(GB)'] = memory_2_gb\n",
    "df['memory_2_type'] = memory_2_type"
   ]
  },
  {
   "cell_type": "markdown",
   "id": "fef83e90",
   "metadata": {
    "papermill": {
     "duration": 0.059116,
     "end_time": "2023-06-16T15:17:27.550060",
     "exception": false,
     "start_time": "2023-06-16T15:17:27.490944",
     "status": "completed"
    },
    "tags": []
   },
   "source": [
    "Then we convert the capacity related columns to floats."
   ]
  },
  {
   "cell_type": "code",
   "execution_count": null,
   "id": "771d39b9",
   "metadata": {
    "execution": {
     "iopub.execute_input": "2023-06-16T15:17:27.670468Z",
     "iopub.status.busy": "2023-06-16T15:17:27.670028Z",
     "iopub.status.idle": "2023-06-16T15:17:27.676811Z",
     "shell.execute_reply": "2023-06-16T15:17:27.675627Z"
    },
    "papermill": {
     "duration": 0.070717,
     "end_time": "2023-06-16T15:17:27.679466",
     "exception": false,
     "start_time": "2023-06-16T15:17:27.608749",
     "status": "completed"
    },
    "tags": []
   },
   "outputs": [],
   "source": [
    "df['memory_1_sto(GB)'] = df['memory_1_sto(GB)'].astype(float)\n",
    "df['memory_2_sto(GB)'] = df['memory_2_sto(GB)'].astype(float)"
   ]
  },
  {
   "cell_type": "code",
   "execution_count": null,
   "id": "db9f85d7",
   "metadata": {
    "execution": {
     "iopub.execute_input": "2023-06-16T15:17:27.800514Z",
     "iopub.status.busy": "2023-06-16T15:17:27.800086Z",
     "iopub.status.idle": "2023-06-16T15:17:27.835009Z",
     "shell.execute_reply": "2023-06-16T15:17:27.833688Z"
    },
    "papermill": {
     "duration": 0.098608,
     "end_time": "2023-06-16T15:17:27.837947",
     "exception": false,
     "start_time": "2023-06-16T15:17:27.739339",
     "status": "completed"
    },
    "tags": []
   },
   "outputs": [],
   "source": [
    "df.head()"
   ]
  },
  {
   "cell_type": "code",
   "execution_count": null,
   "id": "8a382f4a",
   "metadata": {
    "execution": {
     "iopub.execute_input": "2023-06-16T15:17:27.960015Z",
     "iopub.status.busy": "2023-06-16T15:17:27.959212Z",
     "iopub.status.idle": "2023-06-16T15:17:27.966025Z",
     "shell.execute_reply": "2023-06-16T15:17:27.965054Z"
    },
    "papermill": {
     "duration": 0.070828,
     "end_time": "2023-06-16T15:17:27.968418",
     "exception": false,
     "start_time": "2023-06-16T15:17:27.897590",
     "status": "completed"
    },
    "tags": []
   },
   "outputs": [],
   "source": [
    "df=df.drop(['memory_1','memory2','memory'], axis=1)"
   ]
  },
  {
   "cell_type": "code",
   "execution_count": null,
   "id": "59daf1bb",
   "metadata": {
    "execution": {
     "iopub.execute_input": "2023-06-16T15:17:28.089650Z",
     "iopub.status.busy": "2023-06-16T15:17:28.089223Z",
     "iopub.status.idle": "2023-06-16T15:17:28.103754Z",
     "shell.execute_reply": "2023-06-16T15:17:28.102699Z"
    },
    "papermill": {
     "duration": 0.078459,
     "end_time": "2023-06-16T15:17:28.106457",
     "exception": false,
     "start_time": "2023-06-16T15:17:28.027998",
     "status": "completed"
    },
    "tags": []
   },
   "outputs": [],
   "source": [
    "df = df.replace({'NaN': np.nan})"
   ]
  },
  {
   "cell_type": "code",
   "execution_count": null,
   "id": "cf5982a7",
   "metadata": {
    "execution": {
     "iopub.execute_input": "2023-06-16T15:17:28.229175Z",
     "iopub.status.busy": "2023-06-16T15:17:28.228773Z",
     "iopub.status.idle": "2023-06-16T15:17:28.254607Z",
     "shell.execute_reply": "2023-06-16T15:17:28.253436Z"
    },
    "papermill": {
     "duration": 0.089537,
     "end_time": "2023-06-16T15:17:28.257062",
     "exception": false,
     "start_time": "2023-06-16T15:17:28.167525",
     "status": "completed"
    },
    "tags": []
   },
   "outputs": [],
   "source": [
    "df.head()"
   ]
  },
  {
   "cell_type": "code",
   "execution_count": null,
   "id": "89ac82ac",
   "metadata": {
    "execution": {
     "iopub.execute_input": "2023-06-16T15:17:28.378330Z",
     "iopub.status.busy": "2023-06-16T15:17:28.377955Z",
     "iopub.status.idle": "2023-06-16T15:17:28.388300Z",
     "shell.execute_reply": "2023-06-16T15:17:28.387149Z"
    },
    "papermill": {
     "duration": 0.073971,
     "end_time": "2023-06-16T15:17:28.390764",
     "exception": false,
     "start_time": "2023-06-16T15:17:28.316793",
     "status": "completed"
    },
    "scrolled": true,
    "tags": []
   },
   "outputs": [],
   "source": [
    "df['weight'].value_counts()"
   ]
  },
  {
   "cell_type": "markdown",
   "id": "6143a568",
   "metadata": {
    "papermill": {
     "duration": 0.059439,
     "end_time": "2023-06-16T15:17:28.511857",
     "exception": false,
     "start_time": "2023-06-16T15:17:28.452418",
     "status": "completed"
    },
    "tags": []
   },
   "source": [
    "Checking is all rows have a weight specified in kg."
   ]
  },
  {
   "cell_type": "code",
   "execution_count": null,
   "id": "0f4091a2",
   "metadata": {
    "execution": {
     "iopub.execute_input": "2023-06-16T15:17:28.635867Z",
     "iopub.status.busy": "2023-06-16T15:17:28.634822Z",
     "iopub.status.idle": "2023-06-16T15:17:28.644245Z",
     "shell.execute_reply": "2023-06-16T15:17:28.643445Z"
    },
    "papermill": {
     "duration": 0.074651,
     "end_time": "2023-06-16T15:17:28.646696",
     "exception": false,
     "start_time": "2023-06-16T15:17:28.572045",
     "status": "completed"
    },
    "scrolled": true,
    "tags": []
   },
   "outputs": [],
   "source": [
    "df['weight'].str.contains('kg').sum()"
   ]
  },
  {
   "cell_type": "markdown",
   "id": "cfef6c18",
   "metadata": {
    "papermill": {
     "duration": 0.059706,
     "end_time": "2023-06-16T15:17:28.766220",
     "exception": false,
     "start_time": "2023-06-16T15:17:28.706514",
     "status": "completed"
    },
    "tags": []
   },
   "source": [
    "All rows returned true. That means all rows are in kg."
   ]
  },
  {
   "cell_type": "code",
   "execution_count": null,
   "id": "985091c8",
   "metadata": {
    "execution": {
     "iopub.execute_input": "2023-06-16T15:17:28.888451Z",
     "iopub.status.busy": "2023-06-16T15:17:28.887458Z",
     "iopub.status.idle": "2023-06-16T15:17:28.895466Z",
     "shell.execute_reply": "2023-06-16T15:17:28.894614Z"
    },
    "papermill": {
     "duration": 0.072004,
     "end_time": "2023-06-16T15:17:28.897995",
     "exception": false,
     "start_time": "2023-06-16T15:17:28.825991",
     "status": "completed"
    },
    "tags": []
   },
   "outputs": [],
   "source": [
    "df['weight'] = df['weight'].str.replace('kg','').astype(float)"
   ]
  },
  {
   "cell_type": "code",
   "execution_count": null,
   "id": "53ceed16",
   "metadata": {
    "execution": {
     "iopub.execute_input": "2023-06-16T15:17:29.024033Z",
     "iopub.status.busy": "2023-06-16T15:17:29.023255Z",
     "iopub.status.idle": "2023-06-16T15:17:29.028773Z",
     "shell.execute_reply": "2023-06-16T15:17:29.027988Z"
    },
    "papermill": {
     "duration": 0.072642,
     "end_time": "2023-06-16T15:17:29.031006",
     "exception": false,
     "start_time": "2023-06-16T15:17:28.958364",
     "status": "completed"
    },
    "tags": []
   },
   "outputs": [],
   "source": [
    "df.rename(columns={'weight': 'weight(kg)'}, inplace=True)"
   ]
  },
  {
   "cell_type": "code",
   "execution_count": null,
   "id": "d09b0353",
   "metadata": {
    "execution": {
     "iopub.execute_input": "2023-06-16T15:17:29.155718Z",
     "iopub.status.busy": "2023-06-16T15:17:29.154956Z",
     "iopub.status.idle": "2023-06-16T15:17:29.179743Z",
     "shell.execute_reply": "2023-06-16T15:17:29.178546Z"
    },
    "papermill": {
     "duration": 0.090744,
     "end_time": "2023-06-16T15:17:29.182290",
     "exception": false,
     "start_time": "2023-06-16T15:17:29.091546",
     "status": "completed"
    },
    "tags": []
   },
   "outputs": [],
   "source": [
    "df.head()"
   ]
  },
  {
   "cell_type": "code",
   "execution_count": null,
   "id": "127aff36",
   "metadata": {
    "execution": {
     "iopub.execute_input": "2023-06-16T15:17:29.306869Z",
     "iopub.status.busy": "2023-06-16T15:17:29.306429Z",
     "iopub.status.idle": "2023-06-16T15:17:29.321607Z",
     "shell.execute_reply": "2023-06-16T15:17:29.320364Z"
    },
    "papermill": {
     "duration": 0.080073,
     "end_time": "2023-06-16T15:17:29.324352",
     "exception": false,
     "start_time": "2023-06-16T15:17:29.244279",
     "status": "completed"
    },
    "tags": []
   },
   "outputs": [],
   "source": [
    "df['cpu_brand'] = df['cpu'].str.extract(r'^(\\w+)')\n",
    "df['cpu_brand'].value_counts()"
   ]
  },
  {
   "cell_type": "code",
   "execution_count": null,
   "id": "f7e1c922",
   "metadata": {
    "execution": {
     "iopub.execute_input": "2023-06-16T15:17:29.449610Z",
     "iopub.status.busy": "2023-06-16T15:17:29.449146Z",
     "iopub.status.idle": "2023-06-16T15:17:29.475532Z",
     "shell.execute_reply": "2023-06-16T15:17:29.474345Z"
    },
    "papermill": {
     "duration": 0.092821,
     "end_time": "2023-06-16T15:17:29.478327",
     "exception": false,
     "start_time": "2023-06-16T15:17:29.385506",
     "status": "completed"
    },
    "scrolled": true,
    "tags": []
   },
   "outputs": [],
   "source": [
    "df[df['cpu_brand']=='Samsung']"
   ]
  },
  {
   "cell_type": "markdown",
   "id": "8491210e",
   "metadata": {
    "papermill": {
     "duration": 0.059918,
     "end_time": "2023-06-16T15:17:29.599843",
     "exception": false,
     "start_time": "2023-06-16T15:17:29.539925",
     "status": "completed"
    },
    "tags": []
   },
   "source": [
    "Since this is the only entry containing a Samsung CPU and ARM GPU, we are dropping this row as to simplify the comparison among others."
   ]
  },
  {
   "cell_type": "code",
   "execution_count": null,
   "id": "16647b23",
   "metadata": {
    "execution": {
     "iopub.execute_input": "2023-06-16T15:17:29.722462Z",
     "iopub.status.busy": "2023-06-16T15:17:29.721700Z",
     "iopub.status.idle": "2023-06-16T15:17:29.727834Z",
     "shell.execute_reply": "2023-06-16T15:17:29.726812Z"
    },
    "papermill": {
     "duration": 0.069986,
     "end_time": "2023-06-16T15:17:29.730146",
     "exception": false,
     "start_time": "2023-06-16T15:17:29.660160",
     "status": "completed"
    },
    "tags": []
   },
   "outputs": [],
   "source": [
    "df=df.drop(1191)"
   ]
  },
  {
   "cell_type": "code",
   "execution_count": null,
   "id": "a2ba5825",
   "metadata": {
    "execution": {
     "iopub.execute_input": "2023-06-16T15:17:29.853565Z",
     "iopub.status.busy": "2023-06-16T15:17:29.852824Z",
     "iopub.status.idle": "2023-06-16T15:17:29.866551Z",
     "shell.execute_reply": "2023-06-16T15:17:29.865269Z"
    },
    "papermill": {
     "duration": 0.078961,
     "end_time": "2023-06-16T15:17:29.869321",
     "exception": false,
     "start_time": "2023-06-16T15:17:29.790360",
     "status": "completed"
    },
    "tags": []
   },
   "outputs": [],
   "source": [
    "df['gpu_brand'] = df['gpu'].str.extract(r'^(\\w+)')\n",
    "df['gpu_brand'].value_counts()"
   ]
  },
  {
   "cell_type": "code",
   "execution_count": null,
   "id": "c27d2822",
   "metadata": {
    "execution": {
     "iopub.execute_input": "2023-06-16T15:17:29.992020Z",
     "iopub.status.busy": "2023-06-16T15:17:29.991601Z",
     "iopub.status.idle": "2023-06-16T15:17:30.007142Z",
     "shell.execute_reply": "2023-06-16T15:17:30.005986Z"
    },
    "papermill": {
     "duration": 0.080314,
     "end_time": "2023-06-16T15:17:30.010026",
     "exception": false,
     "start_time": "2023-06-16T15:17:29.929712",
     "status": "completed"
    },
    "tags": []
   },
   "outputs": [],
   "source": [
    "df[df['gpu_brand']=='ARM']"
   ]
  },
  {
   "cell_type": "code",
   "execution_count": null,
   "id": "a9a6cd22",
   "metadata": {
    "execution": {
     "iopub.execute_input": "2023-06-16T15:17:30.136289Z",
     "iopub.status.busy": "2023-06-16T15:17:30.135345Z",
     "iopub.status.idle": "2023-06-16T15:17:30.162672Z",
     "shell.execute_reply": "2023-06-16T15:17:30.161757Z"
    },
    "papermill": {
     "duration": 0.093313,
     "end_time": "2023-06-16T15:17:30.164944",
     "exception": false,
     "start_time": "2023-06-16T15:17:30.071631",
     "status": "completed"
    },
    "tags": []
   },
   "outputs": [],
   "source": [
    "df.head()"
   ]
  },
  {
   "cell_type": "code",
   "execution_count": null,
   "id": "7fa4789a",
   "metadata": {},
   "outputs": [],
   "source": [
    "## my work\n",
    "df[\"opsys\"].value_counts()"
   ]
  },
  {
   "cell_type": "code",
   "execution_count": null,
   "id": "cdcb7da9",
   "metadata": {
    "execution": {
     "iopub.execute_input": "2023-06-16T15:17:30.290766Z",
     "iopub.status.busy": "2023-06-16T15:17:30.290317Z",
     "iopub.status.idle": "2023-06-16T15:17:30.311596Z",
     "shell.execute_reply": "2023-06-16T15:17:30.310010Z"
    },
    "papermill": {
     "duration": 0.087296,
     "end_time": "2023-06-16T15:17:30.313990",
     "exception": false,
     "start_time": "2023-06-16T15:17:30.226694",
     "status": "completed"
    },
    "tags": []
   },
   "outputs": [],
   "source": [
    "df.info()"
   ]
  },
  {
   "cell_type": "code",
   "execution_count": null,
   "id": "2365effa",
   "metadata": {
    "execution": {
     "iopub.execute_input": "2023-06-16T15:17:30.440288Z",
     "iopub.status.busy": "2023-06-16T15:17:30.439920Z",
     "iopub.status.idle": "2023-06-16T15:17:30.476424Z",
     "shell.execute_reply": "2023-06-16T15:17:30.475243Z"
    },
    "papermill": {
     "duration": 0.103521,
     "end_time": "2023-06-16T15:17:30.479105",
     "exception": false,
     "start_time": "2023-06-16T15:17:30.375584",
     "status": "completed"
    },
    "scrolled": true,
    "tags": []
   },
   "outputs": [],
   "source": [
    "df.to_csv('laptop-clean.csv', index=False)\n",
    "print('Cleaned dataset exported to CSV.')"
   ]
  },
  {
   "cell_type": "markdown",
   "id": "144fa3dd",
   "metadata": {
    "papermill": {
     "duration": 0.061054,
     "end_time": "2023-06-16T15:17:30.601920",
     "exception": false,
     "start_time": "2023-06-16T15:17:30.540866",
     "status": "completed"
    },
    "tags": []
   },
   "source": [
    "## 2. Exploratory Data Analysis (EDA)"
   ]
  },
  {
   "cell_type": "code",
   "execution_count": null,
   "id": "d4f2e489",
   "metadata": {
    "execution": {
     "iopub.execute_input": "2023-06-16T15:17:30.726815Z",
     "iopub.status.busy": "2023-06-16T15:17:30.726395Z",
     "iopub.status.idle": "2023-06-16T15:17:32.264513Z",
     "shell.execute_reply": "2023-06-16T15:17:32.263491Z"
    },
    "papermill": {
     "duration": 1.603871,
     "end_time": "2023-06-16T15:17:32.267294",
     "exception": false,
     "start_time": "2023-06-16T15:17:30.663423",
     "status": "completed"
    },
    "tags": []
   },
   "outputs": [],
   "source": [
    "import matplotlib.pyplot as plt\n",
    "import seaborn as sns\n",
    "from scipy import stats"
   ]
  },
  {
   "cell_type": "code",
   "execution_count": null,
   "id": "2b0226c9",
   "metadata": {
    "execution": {
     "iopub.execute_input": "2023-06-16T15:17:32.394259Z",
     "iopub.status.busy": "2023-06-16T15:17:32.393841Z",
     "iopub.status.idle": "2023-06-16T15:17:32.431911Z",
     "shell.execute_reply": "2023-06-16T15:17:32.430901Z"
    },
    "papermill": {
     "duration": 0.105492,
     "end_time": "2023-06-16T15:17:32.435256",
     "exception": false,
     "start_time": "2023-06-16T15:17:32.329764",
     "status": "completed"
    },
    "scrolled": false,
    "tags": []
   },
   "outputs": [],
   "source": [
    "df1=pd.read_csv('laptop-clean.csv')\n",
    "df1.head()"
   ]
  },
  {
   "cell_type": "markdown",
   "id": "6e5127cc",
   "metadata": {
    "papermill": {
     "duration": 0.062935,
     "end_time": "2023-06-16T15:17:32.561464",
     "exception": false,
     "start_time": "2023-06-16T15:17:32.498529",
     "status": "completed"
    },
    "tags": []
   },
   "source": [
    "We will futher clean the data frame to remove outliers."
   ]
  },
  {
   "cell_type": "code",
   "execution_count": null,
   "id": "0c183371",
   "metadata": {
    "execution": {
     "iopub.execute_input": "2023-06-16T15:17:32.689491Z",
     "iopub.status.busy": "2023-06-16T15:17:32.688485Z",
     "iopub.status.idle": "2023-06-16T15:17:32.695590Z",
     "shell.execute_reply": "2023-06-16T15:17:32.694630Z"
    },
    "papermill": {
     "duration": 0.074069,
     "end_time": "2023-06-16T15:17:32.698871",
     "exception": false,
     "start_time": "2023-06-16T15:17:32.624802",
     "status": "completed"
    },
    "tags": []
   },
   "outputs": [],
   "source": [
    "df_clean=df1.copy()"
   ]
  },
  {
   "cell_type": "code",
   "execution_count": null,
   "id": "ca5808ac",
   "metadata": {
    "execution": {
     "iopub.execute_input": "2023-06-16T15:17:32.827115Z",
     "iopub.status.busy": "2023-06-16T15:17:32.826136Z",
     "iopub.status.idle": "2023-06-16T15:17:32.846659Z",
     "shell.execute_reply": "2023-06-16T15:17:32.845251Z"
    },
    "papermill": {
     "duration": 0.088557,
     "end_time": "2023-06-16T15:17:32.850178",
     "exception": false,
     "start_time": "2023-06-16T15:17:32.761621",
     "status": "completed"
    },
    "tags": []
   },
   "outputs": [],
   "source": [
    "df1.info()"
   ]
  },
  {
   "cell_type": "markdown",
   "id": "30fb6887",
   "metadata": {
    "papermill": {
     "duration": 0.062245,
     "end_time": "2023-06-16T15:17:32.976414",
     "exception": false,
     "start_time": "2023-06-16T15:17:32.914169",
     "status": "completed"
    },
    "tags": []
   },
   "source": [
    "### Most frequent in brand the dataframe"
   ]
  },
  {
   "cell_type": "code",
   "execution_count": null,
   "id": "5c4489ed",
   "metadata": {
    "scrolled": false
   },
   "outputs": [],
   "source": [
    "fig, ax  = plt.subplots(figsize=(10,5))\n",
    "ax=sns.countplot(x='company', data=df1, palette='mako_r', order = df1['company'].value_counts().index)\n",
    "ax.set_xticklabels(ax.get_xticklabels(), rotation=80)\n",
    "ax.bar_label(ax.containers[0])\n",
    "plt.title('Number of laptops by brands')\n",
    "plt.show()"
   ]
  },
  {
   "cell_type": "code",
   "execution_count": null,
   "id": "c45b482c",
   "metadata": {},
   "outputs": [],
   "source": [
    "company_list = df['company'].value_counts().index[:].tolist()\n",
    "company_list\n",
    "\n",
    "plt.figure(figsize=(9,5))\n",
    "ax=sns.barplot(x='company', y='price', data=df1,\n",
    "                order=company_list, \n",
    "                palette='Spectral', \n",
    "                errorbar=('ci', False),\n",
    "                edgecolor=\"black\")\n",
    "plt.xticks(rotation=80);\n",
    "ax.bar_label(ax.containers[0])\n",
    "plt.title('Average price of laptops by company')\n",
    "plt.show()"
   ]
  },
  {
   "cell_type": "code",
   "execution_count": null,
   "id": "46b77d73",
   "metadata": {
    "execution": {
     "iopub.execute_input": "2023-06-16T15:17:33.103628Z",
     "iopub.status.busy": "2023-06-16T15:17:33.102953Z",
     "iopub.status.idle": "2023-06-16T15:17:33.639898Z",
     "shell.execute_reply": "2023-06-16T15:17:33.638771Z"
    },
    "papermill": {
     "duration": 0.603557,
     "end_time": "2023-06-16T15:17:33.642618",
     "exception": false,
     "start_time": "2023-06-16T15:17:33.039061",
     "status": "completed"
    },
    "tags": []
   },
   "outputs": [],
   "source": [
    "fig, ax  = plt.subplots(figsize=(10,5))\n",
    "ax=sns.countplot(x='company', data=df, palette='mako_r', order = df['company'].value_counts().index)\n",
    "ax.set_xticklabels(ax.get_xticklabels(), rotation=80)\n",
    "ax.bar_label(ax.containers[0])\n",
    "plt.title('Number of laptops by brands')\n",
    "plt.show()"
   ]
  },
  {
   "cell_type": "markdown",
   "id": "f159ce1d",
   "metadata": {
    "papermill": {
     "duration": 0.062957,
     "end_time": "2023-06-16T15:17:33.769480",
     "exception": false,
     "start_time": "2023-06-16T15:17:33.706523",
     "status": "completed"
    },
    "tags": []
   },
   "source": [
    "### Most frequent in Laptop the dataframe"
   ]
  },
  {
   "cell_type": "code",
   "execution_count": null,
   "id": "a7440fd6",
   "metadata": {
    "execution": {
     "iopub.execute_input": "2023-06-16T15:17:33.897135Z",
     "iopub.status.busy": "2023-06-16T15:17:33.896257Z",
     "iopub.status.idle": "2023-06-16T15:17:34.239008Z",
     "shell.execute_reply": "2023-06-16T15:17:34.237696Z"
    },
    "papermill": {
     "duration": 0.409465,
     "end_time": "2023-06-16T15:17:34.241720",
     "exception": false,
     "start_time": "2023-06-16T15:17:33.832255",
     "status": "completed"
    },
    "tags": []
   },
   "outputs": [],
   "source": [
    "fig, ax  = plt.subplots(figsize=(6,5))\n",
    "ax=sns.countplot(x='typename', data=df,palette='mako_r', order = df['typename'].value_counts().index)\n",
    "ax.set_xticklabels(ax.get_xticklabels(), rotation=80);\n",
    "ax.bar_label(ax.containers[0])\n",
    "plt.title('Laptop types')\n",
    "plt.show()"
   ]
  },
  {
   "cell_type": "code",
   "execution_count": null,
   "id": "b46744ff",
   "metadata": {},
   "outputs": [],
   "source": [
    "typename_list = df['typename'].value_counts().index[:].tolist()\n",
    "typename_list\n",
    "\n",
    "plt.figure(figsize=(9,5))\n",
    "ax=sns.barplot(x='typename', y='price', data=df[df['typename'].isin(typename_list)],\n",
    "                order=typename_list, \n",
    "                palette='Spectral', \n",
    "                errorbar=('ci', False),\n",
    "                edgecolor=\"black\")\n",
    "plt.xticks(rotation=80);\n",
    "ax.bar_label(ax.containers[0])\n",
    "plt.title('Average price of laptops by typename')\n",
    "plt.show()"
   ]
  },
  {
   "cell_type": "code",
   "execution_count": null,
   "id": "cc9dd8f8",
   "metadata": {
    "execution": {
     "iopub.execute_input": "2023-06-16T15:17:34.384401Z",
     "iopub.status.busy": "2023-06-16T15:17:34.383879Z",
     "iopub.status.idle": "2023-06-16T15:17:34.393404Z",
     "shell.execute_reply": "2023-06-16T15:17:34.392432Z"
    },
    "papermill": {
     "duration": 0.088749,
     "end_time": "2023-06-16T15:17:34.395548",
     "exception": false,
     "start_time": "2023-06-16T15:17:34.306799",
     "status": "completed"
    },
    "tags": []
   },
   "outputs": [],
   "source": [
    "notebook_percentage = '{:.2f}'.format(len(df[df['typename']=='Notebook'])*100/len(df))\n",
    "print('Most laptops are notebooks, which make ' +notebook_percentage+ '% of the total laptops.')"
   ]
  },
  {
   "cell_type": "markdown",
   "id": "407fddab",
   "metadata": {
    "papermill": {
     "duration": 0.064416,
     "end_time": "2023-06-16T15:17:34.534437",
     "exception": false,
     "start_time": "2023-06-16T15:17:34.470021",
     "status": "completed"
    },
    "tags": []
   },
   "source": [
    "### Most popular screen size"
   ]
  },
  {
   "cell_type": "code",
   "execution_count": null,
   "id": "1c06c69e",
   "metadata": {
    "execution": {
     "iopub.execute_input": "2023-06-16T15:17:34.665835Z",
     "iopub.status.busy": "2023-06-16T15:17:34.665165Z",
     "iopub.status.idle": "2023-06-16T15:17:35.167789Z",
     "shell.execute_reply": "2023-06-16T15:17:35.164991Z"
    },
    "papermill": {
     "duration": 0.57139,
     "end_time": "2023-06-16T15:17:35.170528",
     "exception": false,
     "start_time": "2023-06-16T15:17:34.599138",
     "status": "completed"
    },
    "tags": []
   },
   "outputs": [],
   "source": [
    "fig, ax  = plt.subplots(figsize=(10,5))\n",
    "ax=sns.countplot(x='inches', data=df, palette='viridis_r')\n",
    "ax.set_xticklabels(ax.get_xticklabels(), rotation=80);\n",
    "ax.bar_label(ax.containers[0])\n",
    "plt.title('Laptop screen size (inches)')\n",
    "plt.show()"
   ]
  },
  {
   "cell_type": "code",
   "execution_count": null,
   "id": "fafc142a",
   "metadata": {},
   "outputs": [],
   "source": [
    "plt.figure(figsize=(9,5))\n",
    "ax=sns.barplot(x='inches', y='price', data=df,\n",
    "                order=choices, \n",
    "                palette='Spectral', \n",
    "                errorbar=('ci', False),\n",
    "                edgecolor=\"black\")\n",
    "plt.xticks(rotation=80);\n",
    "ax.bar_label(ax.containers[0])\n",
    "plt.title('Average price of laptops by inches')\n",
    "plt.show()"
   ]
  },
  {
   "cell_type": "markdown",
   "id": "573f878c",
   "metadata": {},
   "source": [
    "# resolution"
   ]
  },
  {
   "cell_type": "code",
   "execution_count": null,
   "id": "209e0188",
   "metadata": {},
   "outputs": [],
   "source": [
    "fig, ax  = plt.subplots(figsize=(6,5))\n",
    "ax=sns.countplot(x='resolution', data=df1, palette='viridis_r')\n",
    "ax.set_xticklabels(ax.get_xticklabels(), rotation=80);\n",
    "ax.bar_label(ax.containers[0])\n",
    "plt.title('Laptop screen resolution')\n",
    "plt.show()"
   ]
  },
  {
   "cell_type": "code",
   "execution_count": null,
   "id": "7428bd8a",
   "metadata": {},
   "outputs": [],
   "source": [
    "resolution_list = df['resolution'].value_counts().index[:].tolist()\n",
    "resolution_list"
   ]
  },
  {
   "cell_type": "code",
   "execution_count": null,
   "id": "25484af2",
   "metadata": {},
   "outputs": [],
   "source": [
    "order = [\"3840x2160\", \"3200x1800\", \"2880x1800\", \"2736x1824\", \"2560x1600\", \"2560x1440\", \"2400x1600\", \"2304x1440\", \"2256x1504\", \"2160x1440\", \n",
    "                  \"1920x1200\", \"1920x1080\",\"1600x900\", \"1440x900\", \"1366x768\"]\n",
    "plt.figure(figsize=(9,5))\n",
    "ax=sns.barplot(x='resolution', y='price', data=df1,\n",
    "                order = order, \n",
    "                palette='Spectral', \n",
    "                errorbar=('ci', False),\n",
    "                edgecolor=\"black\")\n",
    "plt.xticks(rotation=80);\n",
    "ax.bar_label(ax.containers[0])\n",
    "plt.title('Average price of laptops by resolution')\n",
    "plt.show()"
   ]
  },
  {
   "cell_type": "markdown",
   "id": "5a4ba373",
   "metadata": {
    "papermill": {
     "duration": 0.064607,
     "end_time": "2023-06-16T15:17:36.324196",
     "exception": false,
     "start_time": "2023-06-16T15:17:36.259589",
     "status": "completed"
    },
    "tags": []
   },
   "source": [
    "### Weight distribution among laptops"
   ]
  },
  {
   "cell_type": "code",
   "execution_count": null,
   "id": "cf0037ba",
   "metadata": {
    "execution": {
     "iopub.execute_input": "2023-06-16T15:17:36.457432Z",
     "iopub.status.busy": "2023-06-16T15:17:36.456965Z",
     "iopub.status.idle": "2023-06-16T15:17:36.468905Z",
     "shell.execute_reply": "2023-06-16T15:17:36.467691Z"
    },
    "papermill": {
     "duration": 0.082486,
     "end_time": "2023-06-16T15:17:36.471646",
     "exception": false,
     "start_time": "2023-06-16T15:17:36.389160",
     "status": "completed"
    },
    "tags": []
   },
   "outputs": [],
   "source": [
    "# Writing a custom function to improve plot readability\n",
    "def num_plot(df, col, title, symb):\n",
    "    fig, ax = plt.subplots(2, 1, sharex=True, figsize=(8,5),gridspec_kw={\"height_ratios\": (.2, .8)})\n",
    "    ax[0].set_title(title,fontsize=18)\n",
    "    sns.boxplot(x=col, data=df, ax=ax[0])\n",
    "    ax[0].set(yticks=[])\n",
    "    sns.histplot(x=col, data=df, ax=ax[1])\n",
    "    ax[1].set_xlabel(col, fontsize=16)\n",
    "    plt.axvline(df[col].mean(), color='darkgreen', linewidth=2.2, label='mean=' + str(np.round(df[col].mean(),1)) + symb)\n",
    "    plt.axvline(df[col].median(), color='red', linewidth=2.2, label='median='+ str(np.round(df[col].median(),1)) + symb)\n",
    "    plt.axvline(df[col].mode()[0], color='purple', linewidth=2.2, label='mode='+ str(df[col].mode()[0]) + symb)\n",
    "    plt.legend(bbox_to_anchor=(1, 1.03), ncol=1, fontsize=17, fancybox=True, shadow=True, frameon=True)\n",
    "    plt.tight_layout()\n",
    "    plt.show()"
   ]
  },
  {
   "cell_type": "code",
   "execution_count": null,
   "id": "9d46086d",
   "metadata": {
    "execution": {
     "iopub.execute_input": "2023-06-16T15:17:36.604454Z",
     "iopub.status.busy": "2023-06-16T15:17:36.604002Z",
     "iopub.status.idle": "2023-06-16T15:17:37.367836Z",
     "shell.execute_reply": "2023-06-16T15:17:37.366964Z"
    },
    "papermill": {
     "duration": 0.833178,
     "end_time": "2023-06-16T15:17:37.370044",
     "exception": false,
     "start_time": "2023-06-16T15:17:36.536866",
     "status": "completed"
    },
    "tags": []
   },
   "outputs": [],
   "source": [
    "num_plot(df_clean, 'weight(kg)', 'Weight Distribution','kg')"
   ]
  },
  {
   "cell_type": "code",
   "execution_count": null,
   "id": "cb59690a",
   "metadata": {},
   "outputs": [],
   "source": [
    "plt.scatter(df['weight(kg)'],df['price'])\n",
    "plt.title('Laptop price by weight')\n",
    "plt.xlabel('weight(kg)')\n",
    "plt.ylabel('price')"
   ]
  },
  {
   "cell_type": "markdown",
   "id": "55013540",
   "metadata": {
    "papermill": {
     "duration": 0.066519,
     "end_time": "2023-06-16T15:17:37.502670",
     "exception": false,
     "start_time": "2023-06-16T15:17:37.436151",
     "status": "completed"
    },
    "tags": []
   },
   "source": [
    "### Price distribution among the laptops"
   ]
  },
  {
   "cell_type": "code",
   "execution_count": null,
   "id": "12a89ef5",
   "metadata": {
    "execution": {
     "iopub.execute_input": "2023-06-16T15:17:37.635234Z",
     "iopub.status.busy": "2023-06-16T15:17:37.634786Z",
     "iopub.status.idle": "2023-06-16T15:17:38.352736Z",
     "shell.execute_reply": "2023-06-16T15:17:38.351556Z"
    },
    "papermill": {
     "duration": 0.787791,
     "end_time": "2023-06-16T15:17:38.355726",
     "exception": false,
     "start_time": "2023-06-16T15:17:37.567935",
     "status": "completed"
    },
    "tags": []
   },
   "outputs": [],
   "source": [
    "num_plot(df_clean, 'price', 'Price Distribution','$')"
   ]
  },
  {
   "cell_type": "markdown",
   "id": "66ba501c",
   "metadata": {
    "papermill": {
     "duration": 0.066635,
     "end_time": "2023-06-16T15:17:38.488309",
     "exception": false,
     "start_time": "2023-06-16T15:17:38.421674",
     "status": "completed"
    },
    "tags": []
   },
   "source": [
    "There seems to be some laptops with a price over 3000 euros."
   ]
  },
  {
   "cell_type": "code",
   "execution_count": null,
   "id": "974cc84b",
   "metadata": {
    "execution": {
     "iopub.execute_input": "2023-06-16T15:17:38.623659Z",
     "iopub.status.busy": "2023-06-16T15:17:38.622478Z",
     "iopub.status.idle": "2023-06-16T15:17:39.003479Z",
     "shell.execute_reply": "2023-06-16T15:17:39.002422Z"
    },
    "papermill": {
     "duration": 0.451629,
     "end_time": "2023-06-16T15:17:39.006330",
     "exception": false,
     "start_time": "2023-06-16T15:17:38.554701",
     "status": "completed"
    },
    "tags": []
   },
   "outputs": [],
   "source": [
    "fig, ax  = plt.subplots(figsize=(5,3))\n",
    "ax=sns.boxplot(x='price', data=df)\n"
   ]
  },
  {
   "cell_type": "code",
   "execution_count": null,
   "id": "0af81790",
   "metadata": {
    "execution": {
     "iopub.execute_input": "2023-06-16T15:17:39.146841Z",
     "iopub.status.busy": "2023-06-16T15:17:39.146449Z",
     "iopub.status.idle": "2023-06-16T15:17:39.510834Z",
     "shell.execute_reply": "2023-06-16T15:17:39.509599Z"
    },
    "papermill": {
     "duration": 0.439467,
     "end_time": "2023-06-16T15:17:39.513567",
     "exception": false,
     "start_time": "2023-06-16T15:17:39.074100",
     "status": "completed"
    },
    "tags": []
   },
   "outputs": [],
   "source": [
    "sns.boxplot(x='typename', y='price', data=df[df['price']>3000], hue='cpu_brand')"
   ]
  },
  {
   "cell_type": "code",
   "execution_count": null,
   "id": "275eb6a1",
   "metadata": {
    "execution": {
     "iopub.execute_input": "2023-06-16T15:17:39.854080Z",
     "iopub.status.busy": "2023-06-16T15:17:39.853643Z",
     "iopub.status.idle": "2023-06-16T15:17:39.879786Z",
     "shell.execute_reply": "2023-06-16T15:17:39.878501Z"
    },
    "papermill": {
     "duration": 0.097703,
     "end_time": "2023-06-16T15:17:39.882575",
     "exception": false,
     "start_time": "2023-06-16T15:17:39.784872",
     "status": "completed"
    },
    "tags": []
   },
   "outputs": [],
   "source": [
    "df[df['price']>4500]"
   ]
  },
  {
   "cell_type": "code",
   "execution_count": null,
   "id": "e7d9907c",
   "metadata": {},
   "outputs": [],
   "source": [
    "df['gpu'].value_counts()"
   ]
  },
  {
   "cell_type": "markdown",
   "id": "51b8ff74",
   "metadata": {
    "papermill": {
     "duration": 0.067722,
     "end_time": "2023-06-16T15:17:40.018648",
     "exception": false,
     "start_time": "2023-06-16T15:17:39.950926",
     "status": "completed"
    },
    "tags": []
   },
   "source": [
    "### RAM distribution among laptops"
   ]
  },
  {
   "cell_type": "code",
   "execution_count": null,
   "id": "235cb610",
   "metadata": {},
   "outputs": [],
   "source": [
    "# Group the data by the categorical variable\n",
    "grouped_data = df.groupby('ram(GB)')['price']\n",
    "\n",
    "# Create a list to store the data for each category\n",
    "category_data = []\n",
    "\n",
    "# Extract the Price values for each category and store them in the list\n",
    "for category, group in grouped_data:\n",
    "    category_data.append(group.values)\n",
    "\n",
    "# Plot the box plots\n",
    "plt.boxplot(category_data)\n",
    "\n",
    "# Set the labels for the x-axis\n",
    "plt.xticks(range(1, len(category_data) + 1), grouped_data.groups.keys())\n",
    "\n",
    "# Set the label for the y-axis\n",
    "plt.ylabel('price')\n",
    "\n",
    "# Set the title of the plot\n",
    "plt.title('Box Plot of Price by ram')\n",
    "\n",
    "# Show the plot\n",
    "plt.show()\n"
   ]
  },
  {
   "cell_type": "code",
   "execution_count": null,
   "id": "74c79b47",
   "metadata": {
    "execution": {
     "iopub.execute_input": "2023-06-16T15:17:40.156582Z",
     "iopub.status.busy": "2023-06-16T15:17:40.156145Z",
     "iopub.status.idle": "2023-06-16T15:17:40.989595Z",
     "shell.execute_reply": "2023-06-16T15:17:40.988681Z"
    },
    "papermill": {
     "duration": 0.905355,
     "end_time": "2023-06-16T15:17:40.991958",
     "exception": false,
     "start_time": "2023-06-16T15:17:40.086603",
     "status": "completed"
    },
    "tags": []
   },
   "outputs": [],
   "source": [
    "num_plot(df_clean, 'ram(GB)','RAM distribution','GB')"
   ]
  },
  {
   "cell_type": "markdown",
   "id": "c8c508db",
   "metadata": {},
   "source": [
    "### Opsys"
   ]
  },
  {
   "cell_type": "code",
   "execution_count": null,
   "id": "2b8c2f52",
   "metadata": {},
   "outputs": [],
   "source": [
    "df['opsys'].value_counts()"
   ]
  },
  {
   "cell_type": "code",
   "execution_count": null,
   "id": "1625384a",
   "metadata": {},
   "outputs": [],
   "source": [
    "# Group the data by the categorical variable\n",
    "grouped_data = df.groupby('opsys')['price']\n",
    "\n",
    "# Create a list to store the data for each category\n",
    "category_data = []\n",
    "\n",
    "# Extract the Price values for each category and store them in the list\n",
    "for category, group in grouped_data:\n",
    "    category_data.append(group.values)\n",
    "\n",
    "# Plot the box plots\n",
    "plt.boxplot(category_data)\n",
    "\n",
    "# Set the labels for the x-axis\n",
    "plt.xticks(range(1, len(category_data) + 1), grouped_data.groups.keys(), rotation=45)\n",
    "\n",
    "# Set the label for the y-axis\n",
    "plt.ylabel('price')\n",
    "\n",
    "# Set the title of the plot\n",
    "plt.title('Box Plot of Price by opsys')\n",
    "\n",
    "# Show the plot\n",
    "plt.show()\n"
   ]
  },
  {
   "cell_type": "code",
   "execution_count": null,
   "id": "cfa9e7f6",
   "metadata": {},
   "outputs": [],
   "source": [
    "fig, ax  = plt.subplots(figsize=(6,5))\n",
    "ax=sns.countplot(x='opsys', data=df1, palette='viridis_r')\n",
    "ax.set_xticklabels(ax.get_xticklabels(), rotation=80);\n",
    "ax.bar_label(ax.containers[0])\n",
    "plt.title('Bar plot for opsys')\n",
    "plt.show()"
   ]
  },
  {
   "cell_type": "markdown",
   "id": "d455cd56",
   "metadata": {
    "papermill": {
     "duration": 0.068818,
     "end_time": "2023-06-16T15:17:41.283856",
     "exception": false,
     "start_time": "2023-06-16T15:17:41.215038",
     "status": "completed"
    },
    "tags": []
   },
   "source": [
    "### CPU Frequency distribution among laptops"
   ]
  },
  {
   "cell_type": "code",
   "execution_count": null,
   "id": "02566d92",
   "metadata": {},
   "outputs": [],
   "source": [
    "df_clean['cpu_freq(GHz)'].value_counts()"
   ]
  },
  {
   "cell_type": "code",
   "execution_count": null,
   "id": "e7f70fbe",
   "metadata": {
    "execution": {
     "iopub.execute_input": "2023-06-16T15:17:41.422926Z",
     "iopub.status.busy": "2023-06-16T15:17:41.422514Z",
     "iopub.status.idle": "2023-06-16T15:17:42.113719Z",
     "shell.execute_reply": "2023-06-16T15:17:42.112455Z"
    },
    "papermill": {
     "duration": 0.764099,
     "end_time": "2023-06-16T15:17:42.116281",
     "exception": false,
     "start_time": "2023-06-16T15:17:41.352182",
     "status": "completed"
    },
    "tags": []
   },
   "outputs": [],
   "source": [
    "num_plot(df_clean, 'cpu_freq(GHz)','CPU freq distribution','GHz')"
   ]
  },
  {
   "cell_type": "markdown",
   "id": "47fd2ba4",
   "metadata": {
    "papermill": {
     "duration": 0.068948,
     "end_time": "2023-06-16T15:17:42.404753",
     "exception": false,
     "start_time": "2023-06-16T15:17:42.335805",
     "status": "completed"
    },
    "tags": []
   },
   "source": [
    "### Hard Drive capacity distribution among laptops"
   ]
  },
  {
   "cell_type": "code",
   "execution_count": null,
   "id": "80b9f0bc",
   "metadata": {
    "execution": {
     "iopub.execute_input": "2023-06-16T15:17:42.545905Z",
     "iopub.status.busy": "2023-06-16T15:17:42.545497Z",
     "iopub.status.idle": "2023-06-16T15:17:43.052497Z",
     "shell.execute_reply": "2023-06-16T15:17:43.051208Z"
    },
    "papermill": {
     "duration": 0.581329,
     "end_time": "2023-06-16T15:17:43.055231",
     "exception": false,
     "start_time": "2023-06-16T15:17:42.473902",
     "status": "completed"
    },
    "tags": []
   },
   "outputs": [],
   "source": [
    "fig, ax  = plt.subplots(figsize=(8,5))\n",
    "ax=sns.countplot(x='memory_1_sto(GB)', data=df, hue='memory_1_type')\n",
    "ax.set_xticklabels(ax.get_xticklabels(), rotation=90)\n",
    "ax.set_xlabel('First Hard Drive memory storage (GB)')\n",
    "plt.title('First Hard Drive Capacity Distribution')\n",
    "plt.legend(loc='upper left', ncol=1, fontsize=15, fancybox=True, shadow=True, frameon=True)\n",
    "plt.show()"
   ]
  },
  {
   "cell_type": "markdown",
   "id": "62363585",
   "metadata": {
    "papermill": {
     "duration": 0.068892,
     "end_time": "2023-06-16T15:17:43.194398",
     "exception": false,
     "start_time": "2023-06-16T15:17:43.125506",
     "status": "completed"
    },
    "tags": []
   },
   "source": [
    "Most PCs have 256 GB of storage, which is for the most part SSD. Moreover, for storage of 1 TB or higher, most of them are HDD."
   ]
  },
  {
   "cell_type": "markdown",
   "id": "5952d105",
   "metadata": {
    "papermill": {
     "duration": 0.069204,
     "end_time": "2023-06-16T15:17:43.334229",
     "exception": false,
     "start_time": "2023-06-16T15:17:43.265025",
     "status": "completed"
    },
    "tags": []
   },
   "source": [
    "#### Second Hard Drive capacity distribution among laptops"
   ]
  },
  {
   "cell_type": "code",
   "execution_count": null,
   "id": "ab59dc86",
   "metadata": {
    "execution": {
     "iopub.execute_input": "2023-06-16T15:17:43.477033Z",
     "iopub.status.busy": "2023-06-16T15:17:43.476597Z",
     "iopub.status.idle": "2023-06-16T15:17:43.869854Z",
     "shell.execute_reply": "2023-06-16T15:17:43.868647Z"
    },
    "papermill": {
     "duration": 0.4683,
     "end_time": "2023-06-16T15:17:43.872614",
     "exception": false,
     "start_time": "2023-06-16T15:17:43.404314",
     "status": "completed"
    },
    "scrolled": false,
    "tags": []
   },
   "outputs": [],
   "source": [
    "fig, ax  = plt.subplots(figsize=(8,5))\n",
    "ax=sns.countplot(x='memory_2_sto(GB)', data=df, hue='memory_2_type')\n",
    "ax.set_xticklabels(ax.get_xticklabels(), rotation=90)\n",
    "ax.set_xlabel('Second Hard Drive memory storage (GB)')\n",
    "plt.title('Second Hard Drive Capacity Distribution')\n",
    "plt.legend(loc='upper left', ncol=1, fontsize=15, fancybox=True, shadow=True, frameon=True)\n",
    "plt.show()"
   ]
  },
  {
   "cell_type": "markdown",
   "id": "ee0665d5",
   "metadata": {
    "papermill": {
     "duration": 0.070463,
     "end_time": "2023-06-16T15:17:44.014277",
     "exception": false,
     "start_time": "2023-06-16T15:17:43.943814",
     "status": "completed"
    },
    "tags": []
   },
   "source": [
    "Most of second hard drive storages are 1 TB HDD disks\n",
    "\n"
   ]
  },
  {
   "cell_type": "markdown",
   "id": "387cfa9b",
   "metadata": {
    "papermill": {
     "duration": 0.075343,
     "end_time": "2023-06-16T15:17:44.161558",
     "exception": false,
     "start_time": "2023-06-16T15:17:44.086215",
     "status": "completed"
    },
    "tags": []
   },
   "source": [
    "## 3. Outliers detection"
   ]
  },
  {
   "cell_type": "code",
   "execution_count": null,
   "id": "e558e51b",
   "metadata": {
    "execution": {
     "iopub.execute_input": "2023-06-16T15:17:44.305288Z",
     "iopub.status.busy": "2023-06-16T15:17:44.304555Z",
     "iopub.status.idle": "2023-06-16T15:17:44.312910Z",
     "shell.execute_reply": "2023-06-16T15:17:44.311727Z"
    },
    "papermill": {
     "duration": 0.083186,
     "end_time": "2023-06-16T15:17:44.315541",
     "exception": false,
     "start_time": "2023-06-16T15:17:44.232355",
     "status": "completed"
    },
    "tags": []
   },
   "outputs": [],
   "source": [
    "# Writing a custom plot function for linear regression line.\n",
    "def lr_plot(df, col_x, col_y, leg):\n",
    "    slope, intercept, r_value, p_value, std_err = stats.linregress(df[col_x],df[col_y])\n",
    "    sns.regplot(x=col_x, y = col_y, data=df, color='#0d98ba', line_kws={'label':\"y={0:.1f}x+{1:.1f}\".format(slope,intercept)})\n",
    "    plt.legend(loc=leg, ncol=1, fontsize=15, fancybox=True, shadow=True, frameon=True)\n",
    "    plt.title(col_y + ' VS ' + col_x)\n",
    "    plt.show()\n",
    "\n",
    "    return slope, intercept"
   ]
  },
  {
   "cell_type": "markdown",
   "id": "4b9923bf",
   "metadata": {
    "papermill": {
     "duration": 0.0703,
     "end_time": "2023-06-16T15:17:44.457225",
     "exception": false,
     "start_time": "2023-06-16T15:17:44.386925",
     "status": "completed"
    },
    "tags": []
   },
   "source": [
    "### Price vs RAM"
   ]
  },
  {
   "cell_type": "code",
   "execution_count": null,
   "id": "5c709b0b",
   "metadata": {
    "execution": {
     "iopub.execute_input": "2023-06-16T15:17:44.603547Z",
     "iopub.status.busy": "2023-06-16T15:17:44.602251Z",
     "iopub.status.idle": "2023-06-16T15:17:45.151155Z",
     "shell.execute_reply": "2023-06-16T15:17:45.149753Z"
    },
    "papermill": {
     "duration": 0.625649,
     "end_time": "2023-06-16T15:17:45.155200",
     "exception": false,
     "start_time": "2023-06-16T15:17:44.529551",
     "status": "completed"
    },
    "tags": []
   },
   "outputs": [],
   "source": [
    "slope, intercept = lr_plot(df_clean,'ram(GB)','price', 'lower right')"
   ]
  },
  {
   "cell_type": "markdown",
   "id": "b56bf547",
   "metadata": {
    "papermill": {
     "duration": 0.071471,
     "end_time": "2023-06-16T15:17:45.310875",
     "exception": false,
     "start_time": "2023-06-16T15:17:45.239404",
     "status": "completed"
    },
    "tags": []
   },
   "source": [
    "We can see an outlier value."
   ]
  },
  {
   "cell_type": "code",
   "execution_count": null,
   "id": "8e972360",
   "metadata": {
    "execution": {
     "iopub.execute_input": "2023-06-16T15:17:45.455684Z",
     "iopub.status.busy": "2023-06-16T15:17:45.455258Z",
     "iopub.status.idle": "2023-06-16T15:17:45.478081Z",
     "shell.execute_reply": "2023-06-16T15:17:45.477215Z"
    },
    "papermill": {
     "duration": 0.098074,
     "end_time": "2023-06-16T15:17:45.480560",
     "exception": false,
     "start_time": "2023-06-16T15:17:45.382486",
     "status": "completed"
    },
    "tags": []
   },
   "outputs": [],
   "source": [
    "df_clean[df_clean['ram(GB)']>60]"
   ]
  },
  {
   "cell_type": "code",
   "execution_count": null,
   "id": "50a0ff53",
   "metadata": {
    "execution": {
     "iopub.execute_input": "2023-06-16T15:17:45.626746Z",
     "iopub.status.busy": "2023-06-16T15:17:45.625892Z",
     "iopub.status.idle": "2023-06-16T15:17:45.632521Z",
     "shell.execute_reply": "2023-06-16T15:17:45.631359Z"
    },
    "papermill": {
     "duration": 0.082035,
     "end_time": "2023-06-16T15:17:45.635219",
     "exception": false,
     "start_time": "2023-06-16T15:17:45.553184",
     "status": "completed"
    },
    "tags": []
   },
   "outputs": [],
   "source": [
    "df_clean = df_clean[df_clean['ram(GB)']<60]"
   ]
  },
  {
   "cell_type": "code",
   "execution_count": null,
   "id": "47b1b992",
   "metadata": {
    "execution": {
     "iopub.execute_input": "2023-06-16T15:17:45.780694Z",
     "iopub.status.busy": "2023-06-16T15:17:45.779546Z",
     "iopub.status.idle": "2023-06-16T15:17:46.293337Z",
     "shell.execute_reply": "2023-06-16T15:17:46.292208Z"
    },
    "papermill": {
     "duration": 0.589374,
     "end_time": "2023-06-16T15:17:46.296179",
     "exception": false,
     "start_time": "2023-06-16T15:17:45.706805",
     "status": "completed"
    },
    "tags": []
   },
   "outputs": [],
   "source": [
    "slope, intercept = lr_plot(df_clean,'ram(GB)','price', 'upper left')"
   ]
  },
  {
   "cell_type": "markdown",
   "id": "36f5754e",
   "metadata": {
    "papermill": {
     "duration": 0.071532,
     "end_time": "2023-06-16T15:17:46.439812",
     "exception": false,
     "start_time": "2023-06-16T15:17:46.368280",
     "status": "completed"
    },
    "tags": []
   },
   "source": [
    "### Price vs CPU Frequency"
   ]
  },
  {
   "cell_type": "code",
   "execution_count": null,
   "id": "6e643641",
   "metadata": {
    "execution": {
     "iopub.execute_input": "2023-06-16T15:17:46.587025Z",
     "iopub.status.busy": "2023-06-16T15:17:46.585886Z",
     "iopub.status.idle": "2023-06-16T15:17:47.101487Z",
     "shell.execute_reply": "2023-06-16T15:17:47.100144Z"
    },
    "papermill": {
     "duration": 0.592876,
     "end_time": "2023-06-16T15:17:47.104487",
     "exception": false,
     "start_time": "2023-06-16T15:17:46.511611",
     "status": "completed"
    },
    "tags": []
   },
   "outputs": [],
   "source": [
    "slope, intercept = lr_plot(df_clean,'cpu_freq(GHz)','price', 'upper left')"
   ]
  },
  {
   "cell_type": "markdown",
   "id": "58fa5ee0",
   "metadata": {
    "papermill": {
     "duration": 0.076537,
     "end_time": "2023-06-16T15:17:47.254796",
     "exception": false,
     "start_time": "2023-06-16T15:17:47.178259",
     "status": "completed"
    },
    "tags": []
   },
   "source": [
    "We can see a positive trend between price and the CPU frequency, with no obvious outliers."
   ]
  },
  {
   "cell_type": "markdown",
   "id": "6d5e8ec1",
   "metadata": {
    "papermill": {
     "duration": 0.073781,
     "end_time": "2023-06-16T15:17:48.376824",
     "exception": false,
     "start_time": "2023-06-16T15:17:48.303043",
     "status": "completed"
    },
    "tags": []
   },
   "source": [
    "### Price vs CPU Brand (Grouped by GPU Brand)"
   ]
  },
  {
   "cell_type": "code",
   "execution_count": null,
   "id": "01d78640",
   "metadata": {
    "execution": {
     "iopub.execute_input": "2023-06-16T15:17:48.527634Z",
     "iopub.status.busy": "2023-06-16T15:17:48.526682Z",
     "iopub.status.idle": "2023-06-16T15:17:48.872844Z",
     "shell.execute_reply": "2023-06-16T15:17:48.871451Z"
    },
    "papermill": {
     "duration": 0.424837,
     "end_time": "2023-06-16T15:17:48.875805",
     "exception": false,
     "start_time": "2023-06-16T15:17:48.450968",
     "status": "completed"
    },
    "tags": []
   },
   "outputs": [],
   "source": [
    "cpu_palette = {'Intel':'#0d98ba', 'AMD':'#FF0000', 'Nvidia':'#46C646'}\n",
    "fig, ax = plt.subplots(figsize=(6,5))\n",
    "sns.boxplot(x='cpu_brand', y='price', data=df, hue='gpu_brand', palette=cpu_palette)\n",
    "ax.set_title('Price vs CPU brand by GPU brand')\n",
    "plt.ylabel('price ($)')\n",
    "plt.legend(loc='upper right', ncol=1, fontsize=15, fancybox=True, shadow=True, frameon=True)\n",
    "plt.title('Price VS CPU brand by GPU brand')\n",
    "plt.show()"
   ]
  },
  {
   "cell_type": "markdown",
   "id": "14bf1670",
   "metadata": {
    "papermill": {
     "duration": 0.073698,
     "end_time": "2023-06-16T15:17:49.024401",
     "exception": false,
     "start_time": "2023-06-16T15:17:48.950703",
     "status": "completed"
    },
    "tags": []
   },
   "source": [
    "- Laptops with Intel CPUs are more expensive.\n",
    "- Laptops with an AMD CPUs also have and AMD GPUs\n",
    "- Laptops with Nvidia GPUs are more expensive."
   ]
  },
  {
   "cell_type": "markdown",
   "id": "1e694dd0",
   "metadata": {
    "papermill": {
     "duration": 0.07803,
     "end_time": "2023-06-16T15:17:49.178065",
     "exception": false,
     "start_time": "2023-06-16T15:17:49.100035",
     "status": "completed"
    },
    "tags": []
   },
   "source": [
    "### Most common GPUs"
   ]
  },
  {
   "cell_type": "code",
   "execution_count": null,
   "id": "c9204606",
   "metadata": {
    "execution": {
     "iopub.execute_input": "2023-06-16T15:17:49.330134Z",
     "iopub.status.busy": "2023-06-16T15:17:49.328964Z",
     "iopub.status.idle": "2023-06-16T15:17:49.336570Z",
     "shell.execute_reply": "2023-06-16T15:17:49.335269Z"
    },
    "papermill": {
     "duration": 0.086185,
     "end_time": "2023-06-16T15:17:49.339481",
     "exception": false,
     "start_time": "2023-06-16T15:17:49.253296",
     "status": "completed"
    },
    "tags": []
   },
   "outputs": [],
   "source": [
    "gpu_list = df_clean['gpu'].value_counts()[:15].index.tolist()"
   ]
  },
  {
   "cell_type": "code",
   "execution_count": null,
   "id": "50d6fbab",
   "metadata": {
    "execution": {
     "iopub.execute_input": "2023-06-16T15:17:49.491115Z",
     "iopub.status.busy": "2023-06-16T15:17:49.490317Z",
     "iopub.status.idle": "2023-06-16T15:17:49.978027Z",
     "shell.execute_reply": "2023-06-16T15:17:49.977008Z"
    },
    "papermill": {
     "duration": 0.56648,
     "end_time": "2023-06-16T15:17:49.980989",
     "exception": false,
     "start_time": "2023-06-16T15:17:49.414509",
     "status": "completed"
    },
    "tags": []
   },
   "outputs": [],
   "source": [
    "plt.figure(figsize=(8,6))\n",
    "ax=sns.countplot(x='gpu', data=df_clean[df_clean['gpu'].isin(gpu_list)], order = gpu_list, palette='viridis_r')\n",
    "plt.xticks(rotation=80);\n",
    "ax.bar_label(ax.containers[0])\n",
    "plt.title('TOP 15 common GPUs')\n",
    "plt.xlabel('')\n",
    "plt.show()"
   ]
  },
  {
   "cell_type": "markdown",
   "id": "cdd41fd3",
   "metadata": {
    "papermill": {
     "duration": 0.076922,
     "end_time": "2023-06-16T15:17:50.134056",
     "exception": false,
     "start_time": "2023-06-16T15:17:50.057134",
     "status": "completed"
    },
    "tags": []
   },
   "source": [
    "The 2 most common GPUs are integrated Intel GPUs HD Graphics 620 and 520, while the third one is the Nvidia GTX1050."
   ]
  },
  {
   "cell_type": "markdown",
   "id": "ba473b7a",
   "metadata": {
    "papermill": {
     "duration": 0.077571,
     "end_time": "2023-06-16T15:17:50.288578",
     "exception": false,
     "start_time": "2023-06-16T15:17:50.211007",
     "status": "completed"
    },
    "tags": []
   },
   "source": [
    "### Most common CPUS"
   ]
  },
  {
   "cell_type": "code",
   "execution_count": null,
   "id": "90689e55",
   "metadata": {
    "execution": {
     "iopub.execute_input": "2023-06-16T15:17:50.443026Z",
     "iopub.status.busy": "2023-06-16T15:17:50.442595Z",
     "iopub.status.idle": "2023-06-16T15:17:50.449171Z",
     "shell.execute_reply": "2023-06-16T15:17:50.448274Z"
    },
    "papermill": {
     "duration": 0.086908,
     "end_time": "2023-06-16T15:17:50.451467",
     "exception": false,
     "start_time": "2023-06-16T15:17:50.364559",
     "status": "completed"
    },
    "tags": []
   },
   "outputs": [],
   "source": [
    "cpu_list = df_clean['cpu'].value_counts()[:15].index.tolist()"
   ]
  },
  {
   "cell_type": "code",
   "execution_count": null,
   "id": "508f70a1",
   "metadata": {
    "execution": {
     "iopub.execute_input": "2023-06-16T15:17:50.604881Z",
     "iopub.status.busy": "2023-06-16T15:17:50.604475Z",
     "iopub.status.idle": "2023-06-16T15:17:51.097680Z",
     "shell.execute_reply": "2023-06-16T15:17:51.096456Z"
    },
    "papermill": {
     "duration": 0.573787,
     "end_time": "2023-06-16T15:17:51.100517",
     "exception": false,
     "start_time": "2023-06-16T15:17:50.526730",
     "status": "completed"
    },
    "tags": []
   },
   "outputs": [],
   "source": [
    "plt.figure(figsize=(8,6))\n",
    "ax=sns.countplot(x='cpu', data=df_clean[df_clean['cpu'].isin(cpu_list)], order = cpu_list, palette='viridis')\n",
    "plt.xticks(rotation=80);\n",
    "ax.bar_label(ax.containers[0])\n",
    "plt.title('TOP 15 common CPUs')\n",
    "plt.xlabel('')\n",
    "plt.show()"
   ]
  },
  {
   "cell_type": "markdown",
   "id": "4503f07a",
   "metadata": {
    "papermill": {
     "duration": 0.077547,
     "end_time": "2023-06-16T15:17:51.254748",
     "exception": false,
     "start_time": "2023-06-16T15:17:51.177201",
     "status": "completed"
    },
    "tags": []
   },
   "source": [
    "All the TOP 15 most common CPUs are from Intel."
   ]
  },
  {
   "cell_type": "markdown",
   "id": "3bdecc9a",
   "metadata": {
    "papermill": {
     "duration": 0.077082,
     "end_time": "2023-06-16T15:17:53.035444",
     "exception": false,
     "start_time": "2023-06-16T15:17:52.958362",
     "status": "completed"
    },
    "tags": []
   },
   "source": [
    "## Correlation Matrix"
   ]
  },
  {
   "cell_type": "code",
   "execution_count": null,
   "id": "83bcd6c9",
   "metadata": {
    "execution": {
     "iopub.execute_input": "2023-06-16T15:17:53.191686Z",
     "iopub.status.busy": "2023-06-16T15:17:53.190367Z",
     "iopub.status.idle": "2023-06-16T15:17:53.767558Z",
     "shell.execute_reply": "2023-06-16T15:17:53.766398Z"
    },
    "papermill": {
     "duration": 0.657756,
     "end_time": "2023-06-16T15:17:53.770040",
     "exception": false,
     "start_time": "2023-06-16T15:17:53.112284",
     "status": "completed"
    },
    "tags": []
   },
   "outputs": [],
   "source": [
    "plt.figure(figsize=(6, 5))\n",
    "sns.heatmap(df_clean.corr(numeric_only=True), cmap='RdBu', annot=True, vmin=-1, vmax=1)\n",
    "plt.title('Correlation Matrix')\n",
    "plt.show()\n"
   ]
  },
  {
   "cell_type": "markdown",
   "id": "1b914528",
   "metadata": {
    "papermill": {
     "duration": 0.077797,
     "end_time": "2023-06-16T15:17:53.926024",
     "exception": false,
     "start_time": "2023-06-16T15:17:53.848227",
     "status": "completed"
    },
    "tags": []
   },
   "source": [
    "- RAM has a high positive correlation with price (+0.75): more expensive laptops tends to have a higher price.\n",
    "- CPU Freq has a quite moderate positive correlation with the price (+0.43).\n",
    "- Inches and Weight have a high positive correlation (+0.82) since laptops with bigger screens tend to be heavier."
   ]
  },
  {
   "cell_type": "markdown",
   "id": "57cb1cf1",
   "metadata": {
    "papermill": {
     "duration": 0.078891,
     "end_time": "2023-06-16T15:17:54.082921",
     "exception": false,
     "start_time": "2023-06-16T15:17:54.004030",
     "status": "completed"
    },
    "tags": []
   },
   "source": [
    "## 4. Data Preparation for Prediction Model"
   ]
  },
  {
   "cell_type": "code",
   "execution_count": null,
   "id": "5c5cd6f9",
   "metadata": {
    "execution": {
     "iopub.execute_input": "2023-06-16T15:17:54.248685Z",
     "iopub.status.busy": "2023-06-16T15:17:54.246925Z",
     "iopub.status.idle": "2023-06-16T15:17:54.952449Z",
     "shell.execute_reply": "2023-06-16T15:17:54.951439Z"
    },
    "papermill": {
     "duration": 0.793669,
     "end_time": "2023-06-16T15:17:54.955523",
     "exception": false,
     "start_time": "2023-06-16T15:17:54.161854",
     "status": "completed"
    },
    "tags": []
   },
   "outputs": [],
   "source": [
    "from sklearn.preprocessing import LabelEncoder\n",
    "from sklearn.preprocessing import StandardScaler\n",
    "from sklearn.model_selection import train_test_split\n",
    "from sklearn.decomposition import PCA"
   ]
  },
  {
   "cell_type": "code",
   "execution_count": null,
   "id": "1a6f2c57",
   "metadata": {
    "execution": {
     "iopub.execute_input": "2023-06-16T15:17:55.119864Z",
     "iopub.status.busy": "2023-06-16T15:17:55.118757Z",
     "iopub.status.idle": "2023-06-16T15:17:55.729657Z",
     "shell.execute_reply": "2023-06-16T15:17:55.728545Z"
    },
    "papermill": {
     "duration": 0.697374,
     "end_time": "2023-06-16T15:17:55.732402",
     "exception": false,
     "start_time": "2023-06-16T15:17:55.035028",
     "status": "completed"
    },
    "tags": []
   },
   "outputs": [],
   "source": [
    "num_plot(df_clean, 'price', 'Price Distribution','$')"
   ]
  },
  {
   "cell_type": "code",
   "execution_count": null,
   "id": "b142f95b",
   "metadata": {
    "execution": {
     "iopub.execute_input": "2023-06-16T15:17:55.894194Z",
     "iopub.status.busy": "2023-06-16T15:17:55.893160Z",
     "iopub.status.idle": "2023-06-16T15:17:55.898753Z",
     "shell.execute_reply": "2023-06-16T15:17:55.897467Z"
    },
    "papermill": {
     "duration": 0.090216,
     "end_time": "2023-06-16T15:17:55.901581",
     "exception": false,
     "start_time": "2023-06-16T15:17:55.811365",
     "status": "completed"
    },
    "tags": []
   },
   "outputs": [],
   "source": [
    "df1=df_clean.copy()"
   ]
  },
  {
   "cell_type": "markdown",
   "id": "d36b2b22",
   "metadata": {
    "papermill": {
     "duration": 0.078657,
     "end_time": "2023-06-16T15:17:56.059364",
     "exception": false,
     "start_time": "2023-06-16T15:17:55.980707",
     "status": "completed"
    },
    "tags": []
   },
   "source": [
    "Moreover, since the target variable 'price' is right skewed, we will log transform it to improve the prediction performance of the ML algorithm."
   ]
  },
  {
   "cell_type": "code",
   "execution_count": null,
   "id": "49c46ea3",
   "metadata": {
    "execution": {
     "iopub.execute_input": "2023-06-16T15:17:56.220407Z",
     "iopub.status.busy": "2023-06-16T15:17:56.219983Z",
     "iopub.status.idle": "2023-06-16T15:17:56.226078Z",
     "shell.execute_reply": "2023-06-16T15:17:56.224823Z"
    },
    "papermill": {
     "duration": 0.089931,
     "end_time": "2023-06-16T15:17:56.228407",
     "exception": false,
     "start_time": "2023-06-16T15:17:56.138476",
     "status": "completed"
    },
    "tags": []
   },
   "outputs": [],
   "source": [
    "df1['price']=np.log(df1['price'])"
   ]
  },
  {
   "cell_type": "code",
   "execution_count": null,
   "id": "920d9a9d",
   "metadata": {
    "execution": {
     "iopub.execute_input": "2023-06-16T15:17:56.389626Z",
     "iopub.status.busy": "2023-06-16T15:17:56.388520Z",
     "iopub.status.idle": "2023-06-16T15:17:56.901901Z",
     "shell.execute_reply": "2023-06-16T15:17:56.900593Z"
    },
    "papermill": {
     "duration": 0.596907,
     "end_time": "2023-06-16T15:17:56.905045",
     "exception": false,
     "start_time": "2023-06-16T15:17:56.308138",
     "status": "completed"
    },
    "tags": []
   },
   "outputs": [],
   "source": [
    "sns.displot(df1['price'])"
   ]
  },
  {
   "cell_type": "code",
   "execution_count": null,
   "id": "344bd6b6",
   "metadata": {
    "execution": {
     "iopub.execute_input": "2023-06-16T15:17:57.135878Z",
     "iopub.status.busy": "2023-06-16T15:17:57.135481Z",
     "iopub.status.idle": "2023-06-16T15:17:57.146919Z",
     "shell.execute_reply": "2023-06-16T15:17:57.145903Z"
    },
    "papermill": {
     "duration": 0.164908,
     "end_time": "2023-06-16T15:17:57.149575",
     "exception": false,
     "start_time": "2023-06-16T15:17:56.984667",
     "status": "completed"
    },
    "tags": []
   },
   "outputs": [],
   "source": [
    "df1=df1.fillna('NaN')"
   ]
  },
  {
   "cell_type": "markdown",
   "id": "e969142d",
   "metadata": {
    "papermill": {
     "duration": 0.08328,
     "end_time": "2023-06-16T15:17:57.312140",
     "exception": false,
     "start_time": "2023-06-16T15:17:57.228860",
     "status": "completed"
    },
    "tags": []
   },
   "source": [
    "### Feature Encoding"
   ]
  },
  {
   "cell_type": "markdown",
   "id": "f02bd670",
   "metadata": {
    "papermill": {
     "duration": 0.080377,
     "end_time": "2023-06-16T15:17:57.473723",
     "exception": false,
     "start_time": "2023-06-16T15:17:57.393346",
     "status": "completed"
    },
    "tags": []
   },
   "source": [
    "Defining the categorical columns."
   ]
  },
  {
   "cell_type": "code",
   "execution_count": null,
   "id": "012d9f19",
   "metadata": {
    "execution": {
     "iopub.execute_input": "2023-06-16T15:17:57.637715Z",
     "iopub.status.busy": "2023-06-16T15:17:57.636927Z",
     "iopub.status.idle": "2023-06-16T15:17:57.641974Z",
     "shell.execute_reply": "2023-06-16T15:17:57.641024Z"
    },
    "papermill": {
     "duration": 0.090255,
     "end_time": "2023-06-16T15:17:57.644301",
     "exception": false,
     "start_time": "2023-06-16T15:17:57.554046",
     "status": "completed"
    },
    "tags": []
   },
   "outputs": [],
   "source": [
    "catCols =  ['company','product','typename','cpu','gpu','opsys','resolution',\n",
    "                    'screentype','memory_1_type','memory_2_type',\n",
    "                    'gpu_brand','cpu_brand','inches']"
   ]
  },
  {
   "cell_type": "code",
   "execution_count": null,
   "id": "bc6b5b86",
   "metadata": {
    "execution": {
     "iopub.execute_input": "2023-06-16T15:17:57.809469Z",
     "iopub.status.busy": "2023-06-16T15:17:57.808604Z",
     "iopub.status.idle": "2023-06-16T15:17:57.841054Z",
     "shell.execute_reply": "2023-06-16T15:17:57.839450Z"
    },
    "papermill": {
     "duration": 0.117482,
     "end_time": "2023-06-16T15:17:57.844005",
     "exception": false,
     "start_time": "2023-06-16T15:17:57.726523",
     "status": "completed"
    },
    "tags": []
   },
   "outputs": [],
   "source": [
    "print('For One Hot Encoding')\n",
    "print('Dataframe Encoded Dimension: '\n",
    "      , pd.get_dummies(df1, columns=catCols, drop_first=True).shape)"
   ]
  },
  {
   "cell_type": "code",
   "execution_count": null,
   "id": "a1d95075",
   "metadata": {
    "execution": {
     "iopub.execute_input": "2023-06-16T15:17:58.006395Z",
     "iopub.status.busy": "2023-06-16T15:17:58.005548Z",
     "iopub.status.idle": "2023-06-16T15:17:58.025851Z",
     "shell.execute_reply": "2023-06-16T15:17:58.024742Z"
    },
    "papermill": {
     "duration": 0.104187,
     "end_time": "2023-06-16T15:17:58.028301",
     "exception": false,
     "start_time": "2023-06-16T15:17:57.924114",
     "status": "completed"
    },
    "scrolled": true,
    "tags": []
   },
   "outputs": [],
   "source": [
    "en = LabelEncoder()\n",
    "for cols in catCols:\n",
    "    df1[cols] = en.fit_transform(df1[cols])\n",
    "    \n",
    "print('For Label Encoding')\n",
    "print('Dataframe Encoded Dimension: ', df1.shape)"
   ]
  },
  {
   "cell_type": "code",
   "execution_count": null,
   "id": "bcdb4d21",
   "metadata": {
    "execution": {
     "iopub.execute_input": "2023-06-16T15:17:58.191663Z",
     "iopub.status.busy": "2023-06-16T15:17:58.190632Z",
     "iopub.status.idle": "2023-06-16T15:17:58.215512Z",
     "shell.execute_reply": "2023-06-16T15:17:58.214292Z"
    },
    "papermill": {
     "duration": 0.110419,
     "end_time": "2023-06-16T15:17:58.218129",
     "exception": false,
     "start_time": "2023-06-16T15:17:58.107710",
     "status": "completed"
    },
    "scrolled": true,
    "tags": []
   },
   "outputs": [],
   "source": [
    "df1.head()"
   ]
  },
  {
   "cell_type": "code",
   "execution_count": null,
   "id": "7887934c",
   "metadata": {},
   "outputs": [],
   "source": [
    "## my work\n",
    "df1[\"company\"].value_counts()"
   ]
  },
  {
   "cell_type": "markdown",
   "id": "283f8106",
   "metadata": {
    "papermill": {
     "duration": 0.081094,
     "end_time": "2023-06-16T15:17:58.382657",
     "exception": false,
     "start_time": "2023-06-16T15:17:58.301563",
     "status": "completed"
    },
    "tags": []
   },
   "source": [
    "### Variable Preparation"
   ]
  },
  {
   "cell_type": "code",
   "execution_count": null,
   "id": "bc9d50cb",
   "metadata": {
    "execution": {
     "iopub.execute_input": "2023-06-16T15:17:58.546107Z",
     "iopub.status.busy": "2023-06-16T15:17:58.545273Z",
     "iopub.status.idle": "2023-06-16T15:17:58.552369Z",
     "shell.execute_reply": "2023-06-16T15:17:58.551620Z"
    },
    "papermill": {
     "duration": 0.091111,
     "end_time": "2023-06-16T15:17:58.554745",
     "exception": false,
     "start_time": "2023-06-16T15:17:58.463634",
     "status": "completed"
    },
    "tags": []
   },
   "outputs": [],
   "source": [
    "X=df1.drop(['price','product'], axis = 1).values"
   ]
  },
  {
   "cell_type": "code",
   "execution_count": null,
   "id": "f380cd03",
   "metadata": {
    "execution": {
     "iopub.execute_input": "2023-06-16T15:17:58.718632Z",
     "iopub.status.busy": "2023-06-16T15:17:58.717886Z",
     "iopub.status.idle": "2023-06-16T15:17:58.722298Z",
     "shell.execute_reply": "2023-06-16T15:17:58.721481Z"
    },
    "papermill": {
     "duration": 0.088454,
     "end_time": "2023-06-16T15:17:58.724631",
     "exception": false,
     "start_time": "2023-06-16T15:17:58.636177",
     "status": "completed"
    },
    "tags": []
   },
   "outputs": [],
   "source": [
    "y=df1['price'].values"
   ]
  },
  {
   "cell_type": "markdown",
   "id": "59ee6170",
   "metadata": {
    "papermill": {
     "duration": 0.080057,
     "end_time": "2023-06-16T15:17:58.886479",
     "exception": false,
     "start_time": "2023-06-16T15:17:58.806422",
     "status": "completed"
    },
    "tags": []
   },
   "source": [
    "### Train - Test split"
   ]
  },
  {
   "cell_type": "code",
   "execution_count": null,
   "id": "0766d386",
   "metadata": {
    "execution": {
     "iopub.execute_input": "2023-06-16T15:17:59.049710Z",
     "iopub.status.busy": "2023-06-16T15:17:59.048981Z",
     "iopub.status.idle": "2023-06-16T15:17:59.053207Z",
     "shell.execute_reply": "2023-06-16T15:17:59.052406Z"
    },
    "papermill": {
     "duration": 0.088939,
     "end_time": "2023-06-16T15:17:59.055580",
     "exception": false,
     "start_time": "2023-06-16T15:17:58.966641",
     "status": "completed"
    },
    "tags": []
   },
   "outputs": [],
   "source": [
    "seed = 100"
   ]
  },
  {
   "cell_type": "code",
   "execution_count": null,
   "id": "dd00deb5",
   "metadata": {
    "execution": {
     "iopub.execute_input": "2023-06-16T15:17:59.219701Z",
     "iopub.status.busy": "2023-06-16T15:17:59.219285Z",
     "iopub.status.idle": "2023-06-16T15:17:59.227443Z",
     "shell.execute_reply": "2023-06-16T15:17:59.225943Z"
    },
    "papermill": {
     "duration": 0.092982,
     "end_time": "2023-06-16T15:17:59.230010",
     "exception": false,
     "start_time": "2023-06-16T15:17:59.137028",
     "status": "completed"
    },
    "tags": []
   },
   "outputs": [],
   "source": [
    "X_train, X_test, y_train, y_test = train_test_split(X, y, test_size = 0.3, random_state = seed)"
   ]
  },
  {
   "cell_type": "markdown",
   "id": "407d1cd0",
   "metadata": {
    "papermill": {
     "duration": 0.081063,
     "end_time": "2023-06-16T15:17:59.393952",
     "exception": false,
     "start_time": "2023-06-16T15:17:59.312889",
     "status": "completed"
    },
    "tags": []
   },
   "source": [
    "### Random Forest"
   ]
  },
  {
   "cell_type": "code",
   "execution_count": null,
   "id": "6e96f22c",
   "metadata": {
    "execution": {
     "iopub.execute_input": "2023-06-16T15:17:59.556226Z",
     "iopub.status.busy": "2023-06-16T15:17:59.555428Z",
     "iopub.status.idle": "2023-06-16T15:17:59.788281Z",
     "shell.execute_reply": "2023-06-16T15:17:59.787440Z"
    },
    "papermill": {
     "duration": 0.316833,
     "end_time": "2023-06-16T15:17:59.790865",
     "exception": false,
     "start_time": "2023-06-16T15:17:59.474032",
     "status": "completed"
    },
    "tags": []
   },
   "outputs": [],
   "source": [
    "from sklearn.ensemble import RandomForestRegressor"
   ]
  },
  {
   "cell_type": "code",
   "execution_count": null,
   "id": "908f62ac",
   "metadata": {
    "execution": {
     "iopub.execute_input": "2023-06-16T15:17:59.955009Z",
     "iopub.status.busy": "2023-06-16T15:17:59.954249Z",
     "iopub.status.idle": "2023-06-16T15:17:59.958735Z",
     "shell.execute_reply": "2023-06-16T15:17:59.957970Z"
    },
    "papermill": {
     "duration": 0.089732,
     "end_time": "2023-06-16T15:17:59.960785",
     "exception": false,
     "start_time": "2023-06-16T15:17:59.871053",
     "status": "completed"
    },
    "tags": []
   },
   "outputs": [],
   "source": [
    "rf = RandomForestRegressor(n_estimators=100, max_depth=100, max_features=15)"
   ]
  },
  {
   "cell_type": "code",
   "execution_count": null,
   "id": "4ec3d75a",
   "metadata": {
    "execution": {
     "iopub.execute_input": "2023-06-16T15:18:00.127038Z",
     "iopub.status.busy": "2023-06-16T15:18:00.126596Z",
     "iopub.status.idle": "2023-06-16T15:18:00.649021Z",
     "shell.execute_reply": "2023-06-16T15:18:00.647564Z"
    },
    "papermill": {
     "duration": 0.609171,
     "end_time": "2023-06-16T15:18:00.651753",
     "exception": false,
     "start_time": "2023-06-16T15:18:00.042582",
     "status": "completed"
    },
    "tags": []
   },
   "outputs": [],
   "source": [
    "rf.fit(X_train,y_train)"
   ]
  },
  {
   "cell_type": "code",
   "execution_count": null,
   "id": "f5a72420",
   "metadata": {
    "execution": {
     "iopub.execute_input": "2023-06-16T15:18:00.820971Z",
     "iopub.status.busy": "2023-06-16T15:18:00.820203Z",
     "iopub.status.idle": "2023-06-16T15:18:00.844721Z",
     "shell.execute_reply": "2023-06-16T15:18:00.843659Z"
    },
    "papermill": {
     "duration": 0.112616,
     "end_time": "2023-06-16T15:18:00.847454",
     "exception": false,
     "start_time": "2023-06-16T15:18:00.734838",
     "status": "completed"
    },
    "tags": []
   },
   "outputs": [],
   "source": [
    "y_pred_rf = rf.predict(X_test)"
   ]
  },
  {
   "cell_type": "code",
   "execution_count": null,
   "id": "11b18977",
   "metadata": {},
   "outputs": [],
   "source": [
    "df1.head(2)"
   ]
  },
  {
   "cell_type": "code",
   "execution_count": null,
   "id": "70f2f5e7",
   "metadata": {},
   "outputs": [],
   "source": [
    "a=rf.predict([[2,5,12,50,4,50,4,1.22,5,2,0,1.5,128,2,0,0,1,1]])\n",
    "a"
   ]
  },
  {
   "cell_type": "code",
   "execution_count": null,
   "id": "7bd5c1c5",
   "metadata": {},
   "outputs": [],
   "source": [
    "import math\n",
    "math.exp(a[0])*334"
   ]
  },
  {
   "cell_type": "markdown",
   "id": "fc1d2d78",
   "metadata": {
    "papermill": {
     "duration": 0.082502,
     "end_time": "2023-06-16T15:18:01.013315",
     "exception": false,
     "start_time": "2023-06-16T15:18:00.930813",
     "status": "completed"
    },
    "tags": []
   },
   "source": [
    "### Model Evaluation & Metrics"
   ]
  },
  {
   "cell_type": "code",
   "execution_count": null,
   "id": "0d3cb2cd",
   "metadata": {
    "execution": {
     "iopub.execute_input": "2023-06-16T15:18:01.183345Z",
     "iopub.status.busy": "2023-06-16T15:18:01.182534Z",
     "iopub.status.idle": "2023-06-16T15:18:01.187170Z",
     "shell.execute_reply": "2023-06-16T15:18:01.186385Z"
    },
    "papermill": {
     "duration": 0.093399,
     "end_time": "2023-06-16T15:18:01.189617",
     "exception": false,
     "start_time": "2023-06-16T15:18:01.096218",
     "status": "completed"
    },
    "tags": []
   },
   "outputs": [],
   "source": [
    "from sklearn.metrics import mean_squared_error, mean_absolute_error, r2_score"
   ]
  },
  {
   "cell_type": "code",
   "execution_count": null,
   "id": "e263b12f",
   "metadata": {
    "execution": {
     "iopub.execute_input": "2023-06-16T15:18:01.358641Z",
     "iopub.status.busy": "2023-06-16T15:18:01.357952Z",
     "iopub.status.idle": "2023-06-16T15:18:01.364989Z",
     "shell.execute_reply": "2023-06-16T15:18:01.363691Z"
    },
    "papermill": {
     "duration": 0.095624,
     "end_time": "2023-06-16T15:18:01.367368",
     "exception": false,
     "start_time": "2023-06-16T15:18:01.271744",
     "status": "completed"
    },
    "tags": []
   },
   "outputs": [],
   "source": [
    "mse_rf = mean_squared_error(np.exp(y_test), np.exp(y_pred_rf))\n",
    "print(\"RMSE using RF: {} $ \".format(np.round(np.sqrt(mse_rf)),4))"
   ]
  },
  {
   "cell_type": "code",
   "execution_count": null,
   "id": "6c6044fb",
   "metadata": {
    "execution": {
     "iopub.execute_input": "2023-06-16T15:18:01.535789Z",
     "iopub.status.busy": "2023-06-16T15:18:01.535221Z",
     "iopub.status.idle": "2023-06-16T15:18:01.542430Z",
     "shell.execute_reply": "2023-06-16T15:18:01.541048Z"
    },
    "papermill": {
     "duration": 0.094018,
     "end_time": "2023-06-16T15:18:01.544802",
     "exception": false,
     "start_time": "2023-06-16T15:18:01.450784",
     "status": "completed"
    },
    "tags": []
   },
   "outputs": [],
   "source": [
    "print(\"R2 using Random Forest: {:.2f} %\".format(np.round(r2_score(y_test, y_pred_rf),4)*100))"
   ]
  },
  {
   "cell_type": "code",
   "execution_count": null,
   "id": "cd9d0fb4",
   "metadata": {
    "execution": {
     "iopub.execute_input": "2023-06-16T15:18:01.712858Z",
     "iopub.status.busy": "2023-06-16T15:18:01.712450Z",
     "iopub.status.idle": "2023-06-16T15:18:01.722589Z",
     "shell.execute_reply": "2023-06-16T15:18:01.720985Z"
    },
    "papermill": {
     "duration": 0.096066,
     "end_time": "2023-06-16T15:18:01.724871",
     "exception": false,
     "start_time": "2023-06-16T15:18:01.628805",
     "status": "completed"
    },
    "tags": []
   },
   "outputs": [],
   "source": [
    "mse = mean_squared_error(y_test,y_pred_rf)\n",
    "mae = mean_absolute_error(y_test, y_pred_rf)\n",
    "r2 = r2_score(y_test, y_pred_rf)\n",
    "\n",
    "print(\"Random Forest Regressor\")\n",
    "print(\"Evaluation Metrics:\")\n",
    "print(\"Mean Squared Error (MSE): {:.4f}\".format(mse))\n",
    "print(\"Mean Absolute Error (MAE): {:.4f}\".format(mae))\n",
    "print(\"R-squared (R2) Score: {:.4f}\".format(r2))\n"
   ]
  },
  {
   "cell_type": "markdown",
   "id": "bd795dba",
   "metadata": {
    "papermill": {
     "duration": 0.082806,
     "end_time": "2023-06-16T15:18:01.890591",
     "exception": false,
     "start_time": "2023-06-16T15:18:01.807785",
     "status": "completed"
    },
    "tags": []
   },
   "source": [
    "### Feature Importance for RandomForest"
   ]
  },
  {
   "cell_type": "markdown",
   "id": "af432be2",
   "metadata": {
    "papermill": {
     "duration": 0.081833,
     "end_time": "2023-06-16T15:18:02.055289",
     "exception": false,
     "start_time": "2023-06-16T15:18:01.973456",
     "status": "completed"
    },
    "tags": []
   },
   "source": [
    "As we used random forest regressor, we can plot the feature importance determined by the algorithm to perform the regression to better understand what contributes the most to a laptop price."
   ]
  },
  {
   "cell_type": "code",
   "execution_count": null,
   "id": "416277b4",
   "metadata": {
    "execution": {
     "iopub.execute_input": "2023-06-16T15:18:02.226010Z",
     "iopub.status.busy": "2023-06-16T15:18:02.224829Z",
     "iopub.status.idle": "2023-06-16T15:18:02.231261Z",
     "shell.execute_reply": "2023-06-16T15:18:02.230462Z"
    },
    "papermill": {
     "duration": 0.094831,
     "end_time": "2023-06-16T15:18:02.233712",
     "exception": false,
     "start_time": "2023-06-16T15:18:02.138881",
     "status": "completed"
    },
    "tags": []
   },
   "outputs": [],
   "source": [
    "feature_name_list=df1.drop(['price','product'], axis = 1).columns"
   ]
  },
  {
   "cell_type": "code",
   "execution_count": null,
   "id": "8c3c1562",
   "metadata": {
    "execution": {
     "iopub.execute_input": "2023-06-16T15:18:02.405709Z",
     "iopub.status.busy": "2023-06-16T15:18:02.404905Z",
     "iopub.status.idle": "2023-06-16T15:18:02.409458Z",
     "shell.execute_reply": "2023-06-16T15:18:02.408628Z"
    },
    "papermill": {
     "duration": 0.092046,
     "end_time": "2023-06-16T15:18:02.411743",
     "exception": false,
     "start_time": "2023-06-16T15:18:02.319697",
     "status": "completed"
    },
    "tags": []
   },
   "outputs": [],
   "source": [
    "rf.feature_names = feature_name_list"
   ]
  },
  {
   "cell_type": "code",
   "execution_count": null,
   "id": "db71380b",
   "metadata": {
    "execution": {
     "iopub.execute_input": "2023-06-16T15:18:02.579628Z",
     "iopub.status.busy": "2023-06-16T15:18:02.579216Z",
     "iopub.status.idle": "2023-06-16T15:18:02.596472Z",
     "shell.execute_reply": "2023-06-16T15:18:02.595345Z"
    },
    "papermill": {
     "duration": 0.104458,
     "end_time": "2023-06-16T15:18:02.599006",
     "exception": false,
     "start_time": "2023-06-16T15:18:02.494548",
     "status": "completed"
    },
    "tags": []
   },
   "outputs": [],
   "source": [
    "rf_feat_df= pd.DataFrame({'feature': rf.feature_names,'importance':rf.feature_importances_})"
   ]
  },
  {
   "cell_type": "code",
   "execution_count": null,
   "id": "3113584d",
   "metadata": {
    "execution": {
     "iopub.execute_input": "2023-06-16T15:18:02.766409Z",
     "iopub.status.busy": "2023-06-16T15:18:02.765906Z",
     "iopub.status.idle": "2023-06-16T15:18:02.773258Z",
     "shell.execute_reply": "2023-06-16T15:18:02.771798Z"
    },
    "papermill": {
     "duration": 0.093432,
     "end_time": "2023-06-16T15:18:02.775668",
     "exception": false,
     "start_time": "2023-06-16T15:18:02.682236",
     "status": "completed"
    },
    "scrolled": false,
    "tags": []
   },
   "outputs": [],
   "source": [
    "rf_sorted_df=rf_feat_df.sort_values('importance', ascending=False)\n",
    "rf_sorted_df"
   ]
  },
  {
   "cell_type": "code",
   "execution_count": null,
   "id": "d0e5301a",
   "metadata": {
    "execution": {
     "iopub.execute_input": "2023-06-16T15:18:02.944882Z",
     "iopub.status.busy": "2023-06-16T15:18:02.944130Z",
     "iopub.status.idle": "2023-06-16T15:18:03.405490Z",
     "shell.execute_reply": "2023-06-16T15:18:03.403954Z"
    },
    "papermill": {
     "duration": 0.54933,
     "end_time": "2023-06-16T15:18:03.408525",
     "exception": false,
     "start_time": "2023-06-16T15:18:02.859195",
     "status": "completed"
    },
    "scrolled": false,
    "tags": []
   },
   "outputs": [],
   "source": [
    "plt.figure(figsize=(9,5))\n",
    "sns.barplot(x='importance', y='feature', data=rf_sorted_df)\n",
    "plt.title('Feature Importance By Random Forest')\n",
    "plt.xlabel('Feature Importance (%)')\n",
    "plt.ylabel('')\n",
    "plt.show()"
   ]
  },
  {
   "cell_type": "markdown",
   "id": "cc8b0674",
   "metadata": {
    "papermill": {
     "duration": 0.083468,
     "end_time": "2023-06-16T15:18:03.578669",
     "exception": false,
     "start_time": "2023-06-16T15:18:03.495201",
     "status": "completed"
    },
    "tags": []
   },
   "source": [
    "## 5. Alternative Models & Performance Evaluation"
   ]
  },
  {
   "cell_type": "code",
   "execution_count": null,
   "id": "aa755040",
   "metadata": {
    "execution": {
     "iopub.execute_input": "2023-06-16T15:18:03.749771Z",
     "iopub.status.busy": "2023-06-16T15:18:03.749328Z",
     "iopub.status.idle": "2023-06-16T15:18:03.935668Z",
     "shell.execute_reply": "2023-06-16T15:18:03.934469Z"
    },
    "papermill": {
     "duration": 0.275256,
     "end_time": "2023-06-16T15:18:03.938978",
     "exception": false,
     "start_time": "2023-06-16T15:18:03.663722",
     "status": "completed"
    },
    "tags": []
   },
   "outputs": [],
   "source": [
    "from sklearn.linear_model import LinearRegression\n",
    "from sklearn.tree import DecisionTreeRegressor\n",
    "from sklearn.ensemble import GradientBoostingRegressor\n",
    "from xgboost import XGBRegressor"
   ]
  },
  {
   "cell_type": "code",
   "execution_count": null,
   "id": "a5031bf5",
   "metadata": {
    "execution": {
     "iopub.execute_input": "2023-06-16T15:18:04.112110Z",
     "iopub.status.busy": "2023-06-16T15:18:04.111668Z",
     "iopub.status.idle": "2023-06-16T15:18:04.566477Z",
     "shell.execute_reply": "2023-06-16T15:18:04.564604Z"
    },
    "papermill": {
     "duration": 0.545754,
     "end_time": "2023-06-16T15:18:04.569677",
     "exception": false,
     "start_time": "2023-06-16T15:18:04.023923",
     "status": "completed"
    },
    "tags": []
   },
   "outputs": [],
   "source": [
    "regression_models = {\n",
    "    \"lr\": LinearRegression(),\n",
    "    \"dt\": DecisionTreeRegressor(),\n",
    "    \"gb\": GradientBoostingRegressor(),\n",
    "    \"xgb\": XGBRegressor()\n",
    "}\n",
    "\n",
    "models = {}\n",
    "\n",
    "y_pred_gb = None\n",
    "y_pred_xgb = None\n",
    "\n",
    "for model_name, model in regression_models.items():\n",
    "    model.fit(X_train, y_train)\n",
    "    models[model_name] = (model.__class__.__name__, model.predict(X_test))\n",
    "    \n",
    "    if model_name == 'gb':\n",
    "        y_pred_gb = models[model_name][1]\n",
    "    elif model_name == 'xgb':\n",
    "        y_pred_xgb = models[model_name][1]\n",
    "\n",
    "for model_name, (model_fullname, predictions) in models.items():\n",
    "    mse = mean_squared_error(y_test, predictions)\n",
    "    mae = mean_absolute_error(y_test, predictions)\n",
    "    r2 = r2_score(y_test, predictions)\n",
    "\n",
    "    print(f\"{model_fullname}\")\n",
    "    print(\"Evaluation Metrics:\")\n",
    "    print(f\"Mean Squared Error (MSE): {mse:.4f}\")\n",
    "    print(f\"Mean Absolute Error (MAE): {mae:.4f}\")\n",
    "    print(f\"R-squared (R2) Score: {r2:.4f}\")\n",
    "    print('------------------------------------------------------------------')\n",
    "    print()\n"
   ]
  },
  {
   "cell_type": "markdown",
   "id": "c34c7eca",
   "metadata": {
    "papermill": {
     "duration": 0.089758,
     "end_time": "2023-06-16T15:18:04.744558",
     "exception": false,
     "start_time": "2023-06-16T15:18:04.654800",
     "status": "completed"
    },
    "tags": []
   },
   "source": [
    "## 6. Model Comparison"
   ]
  },
  {
   "cell_type": "code",
   "execution_count": null,
   "id": "ac2b631d",
   "metadata": {
    "execution": {
     "iopub.execute_input": "2023-06-16T15:18:04.917603Z",
     "iopub.status.busy": "2023-06-16T15:18:04.916830Z",
     "iopub.status.idle": "2023-06-16T15:18:05.347670Z",
     "shell.execute_reply": "2023-06-16T15:18:05.346183Z"
    },
    "papermill": {
     "duration": 0.519239,
     "end_time": "2023-06-16T15:18:05.350643",
     "exception": false,
     "start_time": "2023-06-16T15:18:04.831404",
     "status": "completed"
    },
    "tags": []
   },
   "outputs": [],
   "source": [
    "plt.figure(figsize = (5,5))\n",
    "plt.scatter(np.exp(y_test), np.exp(y_pred_rf), alpha=0.5, color='red',label='RF, R2 {:.2f} %'.format(r2_score(y_test, y_pred_rf)*100))\n",
    "plt.scatter(np.exp(y_test), np.exp(y_pred_gb), alpha=0.5, color='green',label='GB, R2 {:.2f} %'.format(r2_score(y_test, y_pred_gb)*100))\n",
    "plt.scatter(np.exp(y_test), np.exp(y_pred_xgb), alpha=0.5, color='blue',label='XGB, R2 {:.2f} %'.format(r2_score(y_test, y_pred_xgb)*100))\n",
    "plt.plot([0, 7000], [0, 7000], linestyle='--')\n",
    "plt.axis([0, 7000, 0, 7000])\n",
    "plt.xlabel('Y Test')\n",
    "plt.ylabel('Predicted Y')\n",
    "plt.title('RF vs GB vs XGBoost Price Regression($)')\n",
    "plt.legend(loc='upper left', ncol=1, fontsize=13, fancybox=True, shadow=True, frameon=True)\n",
    "plt.show()"
   ]
  }
 ],
 "metadata": {
  "kernelspec": {
   "display_name": "Python 3 (ipykernel)",
   "language": "python",
   "name": "python3"
  },
  "language_info": {
   "codemirror_mode": {
    "name": "ipython",
    "version": 3
   },
   "file_extension": ".py",
   "mimetype": "text/x-python",
   "name": "python",
   "nbconvert_exporter": "python",
   "pygments_lexer": "ipython3",
   "version": "3.9.9"
  },
  "papermill": {
   "default_parameters": {},
   "duration": 61.530294,
   "end_time": "2023-06-16T15:18:07.039915",
   "environment_variables": {},
   "exception": null,
   "input_path": "__notebook__.ipynb",
   "output_path": "__notebook__.ipynb",
   "parameters": {},
   "start_time": "2023-06-16T15:17:05.509621",
   "version": "2.4.0"
  }
 },
 "nbformat": 4,
 "nbformat_minor": 5
}
